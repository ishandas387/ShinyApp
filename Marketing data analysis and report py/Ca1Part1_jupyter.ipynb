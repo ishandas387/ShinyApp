{
 "cells": [
  {
   "cell_type": "markdown",
   "metadata": {},
   "source": [
    "#CA1 part 1\n"
   ]
  },
  {
   "cell_type": "code",
   "execution_count": 1,
   "metadata": {},
   "outputs": [],
   "source": [
    "#import the required libraries.\n",
    "import numpy as np\n",
    "import pandas as pd\n",
    "import matplotlib.pyplot as plt\n",
    "import seaborn as sns\n",
    "import plotly .offline as offline\n",
    "import plotly.figure_factory as ff\n",
    "from sklearn.model_selection import train_test_split\n",
    "from sklearn.preprocessing import StandardScaler\n",
    "from sklearn import tree\n",
    "from sklearn.model_selection import GridSearchCV\n",
    "from sklearn import metrics\n",
    "from imblearn.over_sampling import SMOTE  \n",
    "from sklearn.ensemble import RandomForestClassifier\n"
   ]
  },
  {
   "cell_type": "code",
   "execution_count": 2,
   "metadata": {},
   "outputs": [],
   "source": [
    "def print_conf_matrix(Y_test, Y_pred, title):\n",
    "    conf_mat = metrics.confusion_matrix(Y_test, Y_pred)\n",
    "    print('Confusion matrix: \\n', conf_mat)\n",
    "    print(title +'\\n')\n",
    "    print('TP: ', conf_mat[1,1])\n",
    "    print('TN: ', conf_mat[0,0])\n",
    "    print('FP: ', conf_mat[0,1])\n",
    "    print('FN: ', conf_mat[1,0])"
   ]
  },
  {
   "cell_type": "code",
   "execution_count": 3,
   "metadata": {},
   "outputs": [
    {
     "name": "stdout",
     "output_type": "stream",
     "text": [
      "   age           job  marital  education default  balance housing loan  \\\n",
      "0   58    management  married   tertiary      no     2143     yes   no   \n",
      "1   44    technician   single  secondary      no       29     yes   no   \n",
      "2   33  entrepreneur  married  secondary      no        2     yes  yes   \n",
      "3   47   blue-collar  married    unknown      no     1506     yes   no   \n",
      "4   33       unknown   single    unknown      no        1      no   no   \n",
      "\n",
      "   contact  day month  duration  campaign  pdays  previous poutcome subscribed  \n",
      "0  unknown    5   may       261         1     -1         0  unknown         no  \n",
      "1  unknown    5   may       151         1     -1         0  unknown         no  \n",
      "2  unknown    5   may        76         1     -1         0  unknown         no  \n",
      "3  unknown    5   may        92         1     -1         0  unknown         no  \n",
      "4  unknown    5   may       198         1     -1         0  unknown         no  \n",
      "(45211, 17)\n",
      "<class 'pandas.core.frame.DataFrame'>\n",
      "RangeIndex: 45211 entries, 0 to 45210\n",
      "Data columns (total 17 columns):\n",
      " #   Column      Non-Null Count  Dtype \n",
      "---  ------      --------------  ----- \n",
      " 0   age         45211 non-null  int64 \n",
      " 1   job         45211 non-null  object\n",
      " 2   marital     45211 non-null  object\n",
      " 3   education   45211 non-null  object\n",
      " 4   default     45211 non-null  object\n",
      " 5   balance     45211 non-null  int64 \n",
      " 6   housing     45211 non-null  object\n",
      " 7   loan        45211 non-null  object\n",
      " 8   contact     45211 non-null  object\n",
      " 9   day         45211 non-null  int64 \n",
      " 10  month       45211 non-null  object\n",
      " 11  duration    45211 non-null  int64 \n",
      " 12  campaign    45211 non-null  int64 \n",
      " 13  pdays       45211 non-null  int64 \n",
      " 14  previous    45211 non-null  int64 \n",
      " 15  poutcome    45211 non-null  object\n",
      " 16  subscribed  45211 non-null  object\n",
      "dtypes: int64(7), object(10)\n",
      "memory usage: 5.9+ MB\n",
      "None\n",
      "                age        balance           day      duration      campaign  \\\n",
      "count  45211.000000   45211.000000  45211.000000  45211.000000  45211.000000   \n",
      "mean      40.936210    1362.272058     15.806419    258.163080      2.763841   \n",
      "std       10.618762    3044.765829      8.322476    257.527812      3.098021   \n",
      "min       18.000000   -8019.000000      1.000000      0.000000      1.000000   \n",
      "25%       33.000000      72.000000      8.000000    103.000000      1.000000   \n",
      "50%       39.000000     448.000000     16.000000    180.000000      2.000000   \n",
      "75%       48.000000    1428.000000     21.000000    319.000000      3.000000   \n",
      "max       95.000000  102127.000000     31.000000   4918.000000     63.000000   \n",
      "\n",
      "              pdays      previous  \n",
      "count  45211.000000  45211.000000  \n",
      "mean      40.197828      0.580323  \n",
      "std      100.128746      2.303441  \n",
      "min       -1.000000      0.000000  \n",
      "25%       -1.000000      0.000000  \n",
      "50%       -1.000000      0.000000  \n",
      "75%       -1.000000      0.000000  \n",
      "max      871.000000    275.000000  \n"
     ]
    }
   ],
   "source": [
    "# Importing dataset and examining it\n",
    "dataset = pd.read_csv(\"Marketing.csv\")\n",
    "print(dataset.head())\n",
    "print(dataset.shape)\n",
    "print(dataset.info())\n",
    "print(dataset.describe())"
   ]
  },
  {
   "cell_type": "code",
   "execution_count": null,
   "metadata": {
    "jupyter": {
     "source_hidden": true
    }
   },
   "outputs": [],
   "source": []
  },
  {
   "cell_type": "code",
   "execution_count": 4,
   "metadata": {},
   "outputs": [
    {
     "name": "stdout",
     "output_type": "stream",
     "text": [
      "age           0\n",
      "job           0\n",
      "marital       0\n",
      "education     0\n",
      "default       0\n",
      "balance       0\n",
      "housing       0\n",
      "loan          0\n",
      "contact       0\n",
      "day           0\n",
      "month         0\n",
      "duration      0\n",
      "campaign      0\n",
      "pdays         0\n",
      "previous      0\n",
      "poutcome      0\n",
      "subscribed    0\n",
      "dtype: int64\n"
     ]
    }
   ],
   "source": [
    "# Total missing values for each feature\n",
    "print (dataset.isnull().sum())"
   ]
  },
  {
   "cell_type": "code",
   "execution_count": 5,
   "metadata": {},
   "outputs": [
    {
     "data": {
      "text/plain": [
       "<matplotlib.axes._subplots.AxesSubplot at 0x144583567c8>"
      ]
     },
     "execution_count": 5,
     "metadata": {},
     "output_type": "execute_result"
    },
    {
     "data": {
      "image/png": "[encoded data removed]",
      "text/plain": [
       "<Figure size 432x288 with 1 Axes>"
      ]
     },
     "metadata": {
      "needs_background": "light"
     },
     "output_type": "display_data"
    }
   ],
   "source": [
    "sns.distplot(dataset['age'], color='red')"
   ]
  },
  {
   "cell_type": "code",
   "execution_count": null,
   "metadata": {
    "jupyter": {
     "source_hidden": true
    }
   },
   "outputs": [],
   "source": []
  },
  {
   "cell_type": "code",
   "execution_count": 6,
   "metadata": {},
   "outputs": [
    {
     "data": {
      "text/plain": [
       "'corrheatmap_marketingdata_withoutchange.html'"
      ]
     },
     "execution_count": 6,
     "metadata": {},
     "output_type": "execute_result"
    }
   ],
   "source": [
    "# Plotting Correlation Heatmap\n",
    "corrs = dataset.corr()\n",
    "figure = ff.create_annotated_heatmap(\n",
    "    z=corrs.values,\n",
    "    x=list(corrs.columns),\n",
    "    y=list(corrs.index),\n",
    "    annotation_text=corrs.round(2).values,\n",
    "    showscale=True)\n",
    "offline.plot(figure,filename='corrheatmap_marketingdata_withoutchange.html')"
   ]
  },
  {
   "cell_type": "code",
   "execution_count": 7,
   "metadata": {},
   "outputs": [
    {
     "name": "stdout",
     "output_type": "stream",
     "text": [
      "   age  default  balance  housing  loan  day  month  duration  campaign  \\\n",
      "0   58        0     2143        1     0    5      5       261         1   \n",
      "1   44        0       29        1     0    5      5       151         1   \n",
      "2   33        0        2        1     1    5      5        76         1   \n",
      "3   47        0     1506        1     0    5      5        92         1   \n",
      "4   33        0        1        0     0    5      5       198         1   \n",
      "\n",
      "   pdays  ...  job_self-employed  job_services  job_student  job_technician  \\\n",
      "0      0  ...                  0             0            0               0   \n",
      "1      0  ...                  0             0            0               1   \n",
      "2      0  ...                  0             0            0               0   \n",
      "3      0  ...                  0             0            0               0   \n",
      "4      0  ...                  0             0            0               0   \n",
      "\n",
      "   job_unemployed  job_unknown  poutcome_failure  poutcome_other  \\\n",
      "0               0            0                 0               0   \n",
      "1               0            0                 0               0   \n",
      "2               0            0                 0               0   \n",
      "3               0            0                 0               0   \n",
      "4               0            1                 0               0   \n",
      "\n",
      "   poutcome_success  poutcome_unknown  \n",
      "0                 0                 1  \n",
      "1                 0                 1  \n",
      "2                 0                 1  \n",
      "3                 0                 1  \n",
      "4                 0                 1  \n",
      "\n",
      "[5 rows x 38 columns]\n",
      "       age  default  balance  housing  loan  day  month  duration  campaign  \\\n",
      "45206   51        0      825        0     0   17     11       977         3   \n",
      "45207   71        0     1729        0     0   17     11       456         2   \n",
      "45208   72        0     5715        0     0   17     11      1127         5   \n",
      "45209   57        0      668        0     0   17     11       508         4   \n",
      "45210   37        0     2971        0     0   17     11       361         2   \n",
      "\n",
      "       pdays  ...  job_self-employed  job_services  job_student  \\\n",
      "45206      0  ...                  0             0            0   \n",
      "45207      0  ...                  0             0            0   \n",
      "45208      2  ...                  0             0            0   \n",
      "45209      0  ...                  0             0            0   \n",
      "45210      2  ...                  0             0            0   \n",
      "\n",
      "       job_technician  job_unemployed  job_unknown  poutcome_failure  \\\n",
      "45206               1               0            0                 0   \n",
      "45207               0               0            0                 0   \n",
      "45208               0               0            0                 0   \n",
      "45209               0               0            0                 0   \n",
      "45210               0               0            0                 0   \n",
      "\n",
      "       poutcome_other  poutcome_success  poutcome_unknown  \n",
      "45206               0                 0                 1  \n",
      "45207               0                 0                 1  \n",
      "45208               0                 1                 0  \n",
      "45209               0                 0                 1  \n",
      "45210               1                 0                 0  \n",
      "\n",
      "[5 rows x 38 columns]\n"
     ]
    }
   ],
   "source": [
    "# Converting Categorical features into Numerical features\n",
    "dataset['subscribed'] = dataset['subscribed'].map({'yes':1, 'no':0})\n",
    "dataset['month'] = dataset['month'].map({'jan':1, 'feb':2, 'mar':3,'apr':4, 'may':5,'jun':6, 'jul':7, 'aug':8,'sep':9,'oct':10,'nov':11,'dec':12})\n",
    "dataset['loan'] = dataset['loan'].map({'yes':1, 'no':0})\n",
    "dataset['default'] = dataset['default'].map({'yes':1, 'no':0})\n",
    "dataset['housing'] = dataset['housing'].map({'yes':1, 'no':0})\n",
    "\n",
    "categorical_features = ['contact', 'marital', 'education', 'job', 'poutcome']\n",
    "dataset = pd.get_dummies(dataset, columns = categorical_features)\n",
    "\n",
    "\n",
    "# Defining pdays\n",
    "def converter(column):\n",
    "    if column < 0:\n",
    "        return 0 # never contacted\n",
    "    elif column > 0 and column < 40:\n",
    "        return 1 # contacted\n",
    "    else:\n",
    "        return 2 #contacted long back\n",
    "dataset['pdays'] = dataset['pdays'].apply(converter)\n",
    "\n",
    "\n",
    "print(dataset.head())\n",
    "print(dataset.tail())"
   ]
  },
  {
   "cell_type": "code",
   "execution_count": 8,
   "metadata": {},
   "outputs": [
    {
     "data": {
      "image/png": "[encoded data removed]",
      "text/plain": [
       "<Figure size 432x288 with 1 Axes>"
      ]
     },
     "metadata": {
      "needs_background": "light"
     },
     "output_type": "display_data"
    }
   ],
   "source": [
    "sns.barplot(x=\"housing\", y=\"subscribed\", data=dataset);"
   ]
  },
  {
   "cell_type": "code",
   "execution_count": 9,
   "metadata": {},
   "outputs": [
    {
     "data": {
      "image/png": "[encoded data removed]",
      "text/plain": [
       "<Figure size 432x288 with 1 Axes>"
      ]
     },
     "metadata": {
      "needs_background": "light"
     },
     "output_type": "display_data"
    }
   ],
   "source": [
    "sns.barplot(x=\"month\", y=\"subscribed\", data=dataset);"
   ]
  },
  {
   "cell_type": "code",
   "execution_count": 10,
   "metadata": {},
   "outputs": [
    {
     "data": {
      "image/png": "[encoded data removed]",
      "text/plain": [
       "<Figure size 2160x720 with 1 Axes>"
      ]
     },
     "metadata": {
      "needs_background": "light"
     },
     "output_type": "display_data"
    }
   ],
   "source": [
    "plt.figure(figsize=(30, 10))\n",
    "sns.barplot(x=\"subscribed\", y=\"duration\", data=dataset);"
   ]
  },
  {
   "cell_type": "code",
   "execution_count": 10,
   "metadata": {},
   "outputs": [
    {
     "data": {
      "image/png": "[encoded data removed]",
      "text/plain": [
       "<Figure size 1152x432 with 1 Axes>"
      ]
     },
     "metadata": {
      "needs_background": "light"
     },
     "output_type": "display_data"
    }
   ],
   "source": [
    "plt.figure(figsize=(16, 6))\n",
    "sns.barplot(x=\"campaign\", y=\"subscribed\", data=dataset);"
   ]
  },
  {
   "cell_type": "code",
   "execution_count": 11,
   "metadata": {},
   "outputs": [
    {
     "data": {
      "image/png": "[encoded data removed]",
      "text/plain": [
       "<Figure size 1152x432 with 1 Axes>"
      ]
     },
     "metadata": {
      "needs_background": "light"
     },
     "output_type": "display_data"
    }
   ],
   "source": [
    "plt.figure(figsize=(16, 6))\n",
    "sns.barplot(x=\"subscribed\", y=\"balance\", data=dataset);"
   ]
  },
  {
   "cell_type": "code",
   "execution_count": 12,
   "metadata": {},
   "outputs": [
    {
     "data": {
      "image/png": "[encoded data removed]",
      "text/plain": [
       "<Figure size 1152x432 with 1 Axes>"
      ]
     },
     "metadata": {
      "needs_background": "light"
     },
     "output_type": "display_data"
    }
   ],
   "source": [
    "plt.figure(figsize=(16, 6))\n",
    "sns.barplot(x=\"day\", y=\"subscribed\", data=dataset);"
   ]
  },
  {
   "cell_type": "code",
   "execution_count": 13,
   "metadata": {},
   "outputs": [
    {
     "data": {
      "image/png": "[encoded data removed]",
      "text/plain": [
       "<Figure size 1152x432 with 1 Axes>"
      ]
     },
     "metadata": {
      "needs_background": "light"
     },
     "output_type": "display_data"
    }
   ],
   "source": [
    "plt.figure(figsize=(16, 6))\n",
    "sns.barplot(x=\"age\", y=\"subscribed\", data=dataset);"
   ]
  },
  {
   "cell_type": "code",
   "execution_count": 14,
   "metadata": {},
   "outputs": [
    {
     "data": {
      "image/png": "[encoded data removed]",
      "text/plain": [
       "<Figure size 432x288 with 1 Axes>"
      ]
     },
     "metadata": {
      "needs_background": "light"
     },
     "output_type": "display_data"
    }
   ],
   "source": [
    "sns.boxplot(x=\"subscribed\", y=\"age\", data=dataset, color ='cyan');"
   ]
  },
  {
   "cell_type": "code",
   "execution_count": 15,
   "metadata": {},
   "outputs": [
    {
     "data": {
      "image/png": "[encoded data removed]",
      "text/plain": [
       "<Figure size 432x288 with 1 Axes>"
      ]
     },
     "metadata": {
      "needs_background": "light"
     },
     "output_type": "display_data"
    }
   ],
   "source": [
    "\n",
    "sns.barplot(x=\"poutcome_success\", y=\"subscribed\", data=dataset);"
   ]
  },
  {
   "cell_type": "code",
   "execution_count": 16,
   "metadata": {},
   "outputs": [
    {
     "data": {
      "image/png": "[encoded data removed]",
      "text/plain": [
       "<Figure size 1152x432 with 1 Axes>"
      ]
     },
     "metadata": {
      "needs_background": "light"
     },
     "output_type": "display_data"
    }
   ],
   "source": [
    "plt.figure(figsize=(16, 6))\n",
    "sns.barplot(x=\"previous\", y=\"subscribed\", data=dataset);"
   ]
  },
  {
   "cell_type": "code",
   "execution_count": null,
   "metadata": {},
   "outputs": [],
   "source": [
    "# Plotting Correlation Heatmap\n",
    "corrs = dataset.corr()\n",
    "figure = ff.create_annotated_heatmap(\n",
    "    z=corrs.values,\n",
    "    x=list(corrs.columns),\n",
    "    y=list(corrs.index),\n",
    "    annotation_text=corrs.round(2).values,\n",
    "    showscale=True)\n",
    "offline.plot(figure,filename='corrheatmap_marketingdata.html')"
   ]
  },
  {
   "cell_type": "code",
   "execution_count": 11,
   "metadata": {},
   "outputs": [],
   "source": [
    "#drop p_outcome_unknown and p_out _other since both of them dont give any significant outcome. we only look for suceess failure for our model.\n",
    "\n",
    "dataset = dataset.drop(['poutcome_unknown'],axis=1)\n",
    "\n",
    "dataset = dataset.drop(['poutcome_other'],axis=1)\n",
    "\n",
    "#already removed. hence the below err."
   ]
  },
  {
   "cell_type": "code",
   "execution_count": 12,
   "metadata": {},
   "outputs": [],
   "source": [
    "#removing contact unknown as well since it seems to be of no use.\n",
    "dataset = dataset.drop(['contact_unknown'],axis=1)"
   ]
  },
  {
   "cell_type": "code",
   "execution_count": 13,
   "metadata": {},
   "outputs": [
    {
     "name": "stdout",
     "output_type": "stream",
     "text": [
      "<class 'pandas.core.frame.DataFrame'>\n",
      "<class 'pandas.core.series.Series'>\n",
      "(45211, 34)\n",
      "(45211,)\n",
      "       age  default  balance  housing  loan  day  month  duration  campaign  \\\n",
      "0       58        0     2143        1     0    5      5       261         1   \n",
      "1       44        0       29        1     0    5      5       151         1   \n",
      "2       33        0        2        1     1    5      5        76         1   \n",
      "3       47        0     1506        1     0    5      5        92         1   \n",
      "4       33        0        1        0     0    5      5       198         1   \n",
      "...    ...      ...      ...      ...   ...  ...    ...       ...       ...   \n",
      "45206   51        0      825        0     0   17     11       977         3   \n",
      "45207   71        0     1729        0     0   17     11       456         2   \n",
      "45208   72        0     5715        0     0   17     11      1127         5   \n",
      "45209   57        0      668        0     0   17     11       508         4   \n",
      "45210   37        0     2971        0     0   17     11       361         2   \n",
      "\n",
      "       pdays  ...  job_management  job_retired  job_self-employed  \\\n",
      "0          0  ...               1            0                  0   \n",
      "1          0  ...               0            0                  0   \n",
      "2          0  ...               0            0                  0   \n",
      "3          0  ...               0            0                  0   \n",
      "4          0  ...               0            0                  0   \n",
      "...      ...  ...             ...          ...                ...   \n",
      "45206      0  ...               0            0                  0   \n",
      "45207      0  ...               0            1                  0   \n",
      "45208      2  ...               0            1                  0   \n",
      "45209      0  ...               0            0                  0   \n",
      "45210      2  ...               0            0                  0   \n",
      "\n",
      "       job_services  job_student  job_technician  job_unemployed  job_unknown  \\\n",
      "0                 0            0               0               0            0   \n",
      "1                 0            0               1               0            0   \n",
      "2                 0            0               0               0            0   \n",
      "3                 0            0               0               0            0   \n",
      "4                 0            0               0               0            1   \n",
      "...             ...          ...             ...             ...          ...   \n",
      "45206             0            0               1               0            0   \n",
      "45207             0            0               0               0            0   \n",
      "45208             0            0               0               0            0   \n",
      "45209             0            0               0               0            0   \n",
      "45210             0            0               0               0            0   \n",
      "\n",
      "       poutcome_failure  poutcome_success  \n",
      "0                     0                 0  \n",
      "1                     0                 0  \n",
      "2                     0                 0  \n",
      "3                     0                 0  \n",
      "4                     0                 0  \n",
      "...                 ...               ...  \n",
      "45206                 0                 0  \n",
      "45207                 0                 0  \n",
      "45208                 0                 1  \n",
      "45209                 0                 0  \n",
      "45210                 0                 0  \n",
      "\n",
      "[45211 rows x 35 columns]\n"
     ]
    }
   ],
   "source": [
    "# Dividing dataset into label and feature sets\n",
    "X = dataset.drop(['subscribed'], axis = 1) # Features\n",
    "Y = dataset['subscribed'] # Labels\n",
    "print(type(X))\n",
    "print(type(Y))\n",
    "print(X.shape)\n",
    "print(Y.shape)\n",
    "print(dataset)"
   ]
  },
  {
   "cell_type": "code",
   "execution_count": 14,
   "metadata": {},
   "outputs": [],
   "source": [
    "# Normalizing numerical features so that each feature has mean 0 and variance 1\n",
    "feature_scaler = StandardScaler()\n",
    "X_scaled = feature_scaler.fit_transform(X)"
   ]
  },
  {
   "cell_type": "code",
   "execution_count": 15,
   "metadata": {},
   "outputs": [
    {
     "name": "stdout",
     "output_type": "stream",
     "text": [
      "(33908, 34)\n",
      "(11303, 34)\n"
     ]
    }
   ],
   "source": [
    "# Dividing dataset into training and test sets\n",
    "X_train, X_test, Y_train, Y_test = train_test_split( X_scaled, Y, test_size = 0.25, random_state = 100)\n",
    "\n",
    "print(X_train.shape)\n",
    "print(X_test.shape)"
   ]
  },
  {
   "cell_type": "code",
   "execution_count": 16,
   "metadata": {},
   "outputs": [
    {
     "name": "stdout",
     "output_type": "stream",
     "text": [
      "Number of observations in each class before oversampling (training data): \n",
      " 0    29928\n",
      "1     3980\n",
      "Name: subscribed, dtype: int64\n"
     ]
    }
   ],
   "source": [
    "# Implementing Oversampling to balance the dataset; SMOTE stands for Synthetic Minority Oversampling TEchnique\n",
    "print(\"Number of observations in each class before oversampling (training data): \\n\", pd.Series(Y_train).value_counts())\n"
   ]
  },
  {
   "cell_type": "code",
   "execution_count": 17,
   "metadata": {},
   "outputs": [
    {
     "name": "stdout",
     "output_type": "stream",
     "text": [
      "Number of observations in each class after oversampling (training data): \n",
      " 1    29928\n",
      "0    29928\n",
      "Name: subscribed, dtype: int64\n"
     ]
    }
   ],
   "source": [
    "smote = SMOTE(random_state = 101)\n",
    "X_train,Y_train = smote.fit_sample(X_train,Y_train)\n",
    "\n",
    "print(\"Number of observations in each class after oversampling (training data): \\n\", pd.Series(Y_train).value_counts())\n"
   ]
  },
  {
   "cell_type": "code",
   "execution_count": 24,
   "metadata": {},
   "outputs": [
    {
     "name": "stdout",
     "output_type": "stream",
     "text": [
      "{'n_estimators': 450}\n",
      "0.9624788164865891\n"
     ]
    }
   ],
   "source": [
    "# Tuning the random forest parameter 'n_estimators' and implementing cross-validation using Grid Search\n",
    "rfc = RandomForestClassifier(criterion='entropy', max_features='auto', random_state=1)\n",
    "grid_param = {'n_estimators': [50, 100, 150, 200, 250, 300, 350, 400, 450, 500]}\n",
    "\n",
    "gd_sr = GridSearchCV(estimator=rfc, param_grid=grid_param, scoring='recall', cv=5)\n",
    "\n",
    "\"\"\"\n",
    "In the above GridSearchCV(), scoring parameter should be set as follows:\n",
    "scoring = 'accuracy' when you want to maximize prediction accuracy\n",
    "scoring = 'recall' when you want to minimize false negatives\n",
    "scoring = 'precision' when you want to minimize false positives\n",
    "scoring = 'f1' when you want to balance false positives and false negatives (place equal emphasis on minimizing both)\n",
    "\"\"\"\n",
    "\n",
    "gd_sr.fit(X_train, Y_train)\n",
    "\n",
    "best_parameters = gd_sr.best_params_\n",
    "print(best_parameters)\n",
    "\n",
    "best_result = gd_sr.best_score_ # Mean cross-validated score of the best_estimator\n",
    "print(best_result)"
   ]
  },
  {
   "cell_type": "code",
   "execution_count": 18,
   "metadata": {},
   "outputs": [
    {
     "name": "stdout",
     "output_type": "stream",
     "text": [
      "duration               0.289514\n",
      "month                  0.103025\n",
      "campaign               0.089449\n",
      "balance                0.072416\n",
      "age                    0.066279\n",
      "day                    0.065271\n",
      "housing                0.055984\n",
      "contact_cellular       0.043315\n",
      "poutcome_success       0.035062\n",
      "previous               0.030257\n",
      "loan                   0.016416\n",
      "pdays                  0.014464\n",
      "education_tertiary     0.009841\n",
      "marital_married        0.009643\n",
      "education_secondary    0.009468\n",
      "marital_single         0.008810\n",
      "contact_telephone      0.008112\n",
      "job_blue-collar        0.007827\n",
      "job_technician         0.007281\n",
      "job_management         0.007011\n",
      "poutcome_failure       0.006740\n",
      "education_primary      0.006246\n",
      "job_admin.             0.006118\n",
      "marital_divorced       0.005056\n",
      "job_services           0.004607\n",
      "job_retired            0.004058\n",
      "job_student            0.003071\n",
      "education_unknown      0.002954\n",
      "job_self-employed      0.002879\n",
      "job_unemployed         0.002767\n",
      "job_entrepreneur       0.002557\n",
      "job_housemaid          0.001844\n",
      "default                0.001057\n",
      "job_unknown            0.000599\n",
      "dtype: float64\n",
      "Confusion matrix: \n",
      " [[9367  627]\n",
      " [ 542  767]]\n",
      "initial\n",
      "\n",
      "TP:  767\n",
      "TN:  9367\n",
      "FP:  627\n",
      "FN:  542\n"
     ]
    }
   ],
   "source": [
    "# Building random forest using the tuned parameter\n",
    "rfc = RandomForestClassifier(n_estimators=450, criterion='entropy', max_features='auto', random_state=12)\n",
    "rfc.fit(X_train,Y_train)\n",
    "featimp = pd.Series(rfc.feature_importances_, index=list(X)).sort_values(ascending=False)\n",
    "print(featimp)\n",
    "\n",
    "Y_pred = rfc.predict(X_test)\n",
    "print_conf_matrix(Y_test,Y_pred,'initial')\n"
   ]
  },
  {
   "cell_type": "code",
   "execution_count": 26,
   "metadata": {},
   "outputs": [
    {
     "name": "stdout",
     "output_type": "stream",
     "text": [
      "       duration  month  campaign  balance  day  age  housing  contact_cellular\n",
      "0           261      5         1     2143    5   58        1                 0\n",
      "1           151      5         1       29    5   44        1                 0\n",
      "2            76      5         1        2    5   33        1                 0\n",
      "3            92      5         1     1506    5   47        1                 0\n",
      "4           198      5         1        1    5   33        0                 0\n",
      "...         ...    ...       ...      ...  ...  ...      ...               ...\n",
      "45206       977     11         3      825   17   51        0                 1\n",
      "45207       456     11         2     1729   17   71        0                 1\n",
      "45208      1127     11         5     5715   17   72        0                 1\n",
      "45209       508     11         4      668   17   57        0                 0\n",
      "45210       361     11         2     2971   17   37        0                 1\n",
      "\n",
      "[45211 rows x 8 columns]\n"
     ]
    }
   ],
   "source": [
    "# Selecting features with higher sifnificance and redefining feature set\n",
    "X_subset1 = dataset[['duration', 'month', 'campaign', 'balance','day','age','housing','contact_cellular']]\n",
    "#,'contact','job','education']]\n",
    "\n",
    "print(X_subset1)\n",
    "\n",
    "feature_scaler = StandardScaler()\n",
    "X_subset1 = feature_scaler.fit_transform(X_subset1)\n",
    "\n",
    "# Dividing dataset into training and test sets\n",
    "X_train_sub, X_test_sub, Y_train_sub, Y_test_sub = train_test_split( X_subset1, Y, test_size = 0.25, random_state = 100)\n",
    "\n",
    "smote = SMOTE(random_state = 101)\n",
    "X_train_sub,Y_train_sub = smote.fit_sample(X_train_sub,Y_train_sub)\n",
    "\n"
   ]
  },
  {
   "cell_type": "code",
   "execution_count": 27,
   "metadata": {},
   "outputs": [
    {
     "name": "stdout",
     "output_type": "stream",
     "text": [
      "Confusion matrix: \n",
      " [[9231  763]\n",
      " [ 479  830]]\n",
      "TP:  830\n",
      "TN:  9231\n",
      "FP:  763\n",
      "FN:  479\n"
     ]
    }
   ],
   "source": [
    "rfc = RandomForestClassifier(n_estimators=450, criterion='entropy', max_features='auto', random_state=12)\n",
    "rfc.fit(X_train_sub,Y_train_sub)\n",
    "\n",
    "Y_pred_sub = rfc.predict(X_test_sub)\n",
    "print_conf_matrix(Y_test_sub,Y_pred_sub,'subset')\n"
   ]
  },
  {
   "cell_type": "code",
   "execution_count": null,
   "metadata": {
    "jupyter": {
     "source_hidden": true
    }
   },
   "outputs": [],
   "source": [
    "\n",
    "100 ----\n",
    "\n",
    "\n",
    "\n",
    "75\n",
    "\n",
    "25 --- TN TP FN FP\n",
    "\n",
    "\n",
    "\n",
    "-- feature imp \n",
    "-- colunm\n",
    "\n",
    "data\n",
    "\n",
    "\n",
    "Y\n",
    "\n",
    "25--- model \n",
    "\n",
    "\n",
    "TP TN FN FP \n",
    "\n",
    "\n"
   ]
  },
  {
   "cell_type": "code",
   "execution_count": 28,
   "metadata": {},
   "outputs": [
    {
     "name": "stdout",
     "output_type": "stream",
     "text": [
      "       duration  month  campaign  balance  day  age  housing\n",
      "0           261      5         1     2143    5   58        1\n",
      "1           151      5         1       29    5   44        1\n",
      "2            76      5         1        2    5   33        1\n",
      "3            92      5         1     1506    5   47        1\n",
      "4           198      5         1        1    5   33        0\n",
      "...         ...    ...       ...      ...  ...  ...      ...\n",
      "45206       977     11         3      825   17   51        0\n",
      "45207       456     11         2     1729   17   71        0\n",
      "45208      1127     11         5     5715   17   72        0\n",
      "45209       508     11         4      668   17   57        0\n",
      "45210       361     11         2     2971   17   37        0\n",
      "\n",
      "[45211 rows x 7 columns]\n",
      "Confusion matrix: \n",
      " [[9209  785]\n",
      " [ 492  817]]\n",
      "TP:  817\n",
      "TN:  9209\n",
      "FP:  785\n",
      "FN:  492\n"
     ]
    }
   ],
   "source": [
    "# Selecting features with higher sifnificance and redefining feature set with 1 less param\n",
    "X_subset2 = dataset[['duration', 'month', 'campaign', 'balance','day','age','housing']]\n",
    "#,'contact','job','education']]\n",
    "\n",
    "print(X_subset2)\n",
    "\n",
    "feature_scaler = StandardScaler()\n",
    "X_subset2 = feature_scaler.fit_transform(X_subset2)\n",
    "\n",
    "# Dividing dataset into training and test sets\n",
    "X_train_sub2, X_test_sub2, Y_train_sub2, Y_test_sub2 = train_test_split( X_subset2, Y, test_size = 0.25, random_state = 100)\n",
    "\n",
    "smote = SMOTE(random_state = 101)\n",
    "X_train_sub2,Y_train_sub2 = smote.fit_sample(X_train_sub2,Y_train_sub2)\n",
    "\n",
    "rfc = RandomForestClassifier(n_estimators=450, criterion='entropy', max_features='auto', random_state=12)\n",
    "rfc.fit(X_train_sub2,Y_train_sub2)\n",
    "\n",
    "Y_pred_sub2 = rfc.predict(X_test_sub2)\n",
    "print_conf_matrix(Y_test_sub2,Y_pred_sub2,'subset2')\n"
   ]
  },
  {
   "cell_type": "code",
   "execution_count": 29,
   "metadata": {},
   "outputs": [
    {
     "name": "stdout",
     "output_type": "stream",
     "text": [
      "       duration  month  campaign  balance  day  age  housing  \\\n",
      "0           261      5         1     2143    5   58        1   \n",
      "1           151      5         1       29    5   44        1   \n",
      "2            76      5         1        2    5   33        1   \n",
      "3            92      5         1     1506    5   47        1   \n",
      "4           198      5         1        1    5   33        0   \n",
      "...         ...    ...       ...      ...  ...  ...      ...   \n",
      "45206       977     11         3      825   17   51        0   \n",
      "45207       456     11         2     1729   17   71        0   \n",
      "45208      1127     11         5     5715   17   72        0   \n",
      "45209       508     11         4      668   17   57        0   \n",
      "45210       361     11         2     2971   17   37        0   \n",
      "\n",
      "       contact_cellular  poutcome_success  \n",
      "0                     0                 0  \n",
      "1                     0                 0  \n",
      "2                     0                 0  \n",
      "3                     0                 0  \n",
      "4                     0                 0  \n",
      "...                 ...               ...  \n",
      "45206                 1                 0  \n",
      "45207                 1                 0  \n",
      "45208                 1                 1  \n",
      "45209                 0                 0  \n",
      "45210                 1                 0  \n",
      "\n",
      "[45211 rows x 9 columns]\n",
      "Confusion matrix: \n",
      " [[9226  768]\n",
      " [ 444  865]]\n",
      "TP:  865\n",
      "TN:  9226\n",
      "FP:  768\n",
      "FN:  444\n"
     ]
    }
   ],
   "source": [
    "# Selecting features with higher sifnificance and redefining feature set with 1 more  param\n",
    "X_subset3 = dataset[['duration', 'month', 'campaign', 'balance','day','age','housing','contact_cellular','poutcome_success']]\n",
    "#,'contact','job','education']]\n",
    "\n",
    "print(X_subset3)\n",
    "\n",
    "feature_scaler = StandardScaler()\n",
    "X_subset3 = feature_scaler.fit_transform(X_subset3)\n",
    "\n",
    "# Dividing dataset into training and test sets\n",
    "X_train_sub3, X_test_sub3, Y_train_sub3, Y_test_sub3 = train_test_split( X_subset3, Y, test_size = 0.25, random_state = 100)\n",
    "\n",
    "smote = SMOTE(random_state = 101)\n",
    "X_train_sub3,Y_train_sub3 = smote.fit_sample(X_train_sub3,Y_train_sub3)\n",
    "\n",
    "rfc = RandomForestClassifier(n_estimators=450, criterion='entropy', max_features='auto', random_state=12)\n",
    "rfc.fit(X_train_sub3,Y_train_sub3)\n",
    "\n",
    "Y_pred_sub3 = rfc.predict(X_test_sub3)\n",
    "print_conf_matrix(Y_test_sub3,Y_pred_sub3,'subset3')\n"
   ]
  },
  {
   "cell_type": "code",
   "execution_count": 30,
   "metadata": {},
   "outputs": [
    {
     "name": "stdout",
     "output_type": "stream",
     "text": [
      "       duration  month  campaign  balance  day  age  housing  \\\n",
      "0           261      5         1     2143    5   58        1   \n",
      "1           151      5         1       29    5   44        1   \n",
      "2            76      5         1        2    5   33        1   \n",
      "3            92      5         1     1506    5   47        1   \n",
      "4           198      5         1        1    5   33        0   \n",
      "...         ...    ...       ...      ...  ...  ...      ...   \n",
      "45206       977     11         3      825   17   51        0   \n",
      "45207       456     11         2     1729   17   71        0   \n",
      "45208      1127     11         5     5715   17   72        0   \n",
      "45209       508     11         4      668   17   57        0   \n",
      "45210       361     11         2     2971   17   37        0   \n",
      "\n",
      "       contact_cellular  poutcome_success  previous  \n",
      "0                     0                 0         0  \n",
      "1                     0                 0         0  \n",
      "2                     0                 0         0  \n",
      "3                     0                 0         0  \n",
      "4                     0                 0         0  \n",
      "...                 ...               ...       ...  \n",
      "45206                 1                 0         0  \n",
      "45207                 1                 0         0  \n",
      "45208                 1                 1         3  \n",
      "45209                 0                 0         0  \n",
      "45210                 1                 0        11  \n",
      "\n",
      "[45211 rows x 10 columns]\n",
      "Confusion matrix: \n",
      " [[9287  707]\n",
      " [ 450  859]]\n",
      "TP:  859\n",
      "TN:  9287\n",
      "FP:  707\n",
      "FN:  450\n"
     ]
    }
   ],
   "source": [
    "# Selecting features with higher sifnificance and redefining feature set with 1 more  param\n",
    "X_subset4 = dataset[['duration', 'month', 'campaign', 'balance','day','age','housing','contact_cellular','poutcome_success','previous']]\n",
    "#,'contact','job','education']]\n",
    "\n",
    "print(X_subset4)\n",
    "\n",
    "feature_scaler = StandardScaler()\n",
    "X_subset4 = feature_scaler.fit_transform(X_subset4)\n",
    "\n",
    "# Dividing dataset into training and test sets\n",
    "X_train_sub4, X_test_sub4, Y_train_sub4, Y_test_sub4 = train_test_split( X_subset4, Y, test_size = 0.25, random_state = 100)\n",
    "\n",
    "smote = SMOTE(random_state = 101)\n",
    "X_train_sub4,Y_train_sub4 = smote.fit_sample(X_train_sub4,Y_train_sub4)\n",
    "\n",
    "rfc = RandomForestClassifier(n_estimators=450, criterion='entropy', max_features='auto', random_state=12)\n",
    "rfc.fit(X_train_sub4,Y_train_sub4)\n",
    "\n",
    "Y_pred_sub4 = rfc.predict(X_test_sub4)\n",
    "print_conf_matrix(Y_test_sub4,Y_pred_sub4,'subset4')\n"
   ]
  },
  {
   "cell_type": "code",
   "execution_count": null,
   "metadata": {},
   "outputs": [],
   "source": []
  }
 ],
 "metadata": {
  "kernelspec": {
   "display_name": "Python 3",
   "language": "python",
   "name": "python3"
  },
  "language_info": {
   "codemirror_mode": {
    "name": "ipython",
    "version": 3
   },
   "file_extension": ".py",
   "mimetype": "text/x-python",
   "name": "python",
   "nbconvert_exporter": "python",
   "pygments_lexer": "ipython3",
   "version": "3.7.4"
  }
 },
 "nbformat": 4,
 "nbformat_minor": 4
}
