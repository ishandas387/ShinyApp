{
 "cells": [
  {
   "cell_type": "code",
   "execution_count": 42,
   "metadata": {},
   "outputs": [],
   "source": [
    "import numpy as np\n",
    "import pandas as pd\n",
    "import matplotlib.pyplot as plt\n",
    "from sklearn.preprocessing import StandardScaler\n",
    "from sklearn.decomposition import PCA\n",
    "from sklearn.cluster import KMeans\n",
    "from sklearn.manifold import TSNE\n",
    "import plotly.graph_objs as go\n",
    "import plotly .offline as offline\n",
    "import plotly.figure_factory as ff\n",
    "import plotly.express as px\n"
   ]
  },
  {
   "cell_type": "code",
   "execution_count": 43,
   "metadata": {},
   "outputs": [
    {
     "name": "stdout",
     "output_type": "stream",
     "text": [
      "   fixed acidity  volatile acidity  citric acid  residual sugar  chlorides  \\\n",
      "0            7.0              0.27         0.36            20.7      0.045   \n",
      "1            6.3              0.30         0.34             1.6      0.049   \n",
      "2            8.1              0.28         0.40             6.9      0.050   \n",
      "3            7.2              0.23         0.32             8.5      0.058   \n",
      "4            7.2              0.23         0.32             8.5      0.058   \n",
      "\n",
      "   free sulfur dioxide  total sulfur dioxide  density    pH  sulphates  \\\n",
      "0                 45.0                 170.0   1.0010  3.00       0.45   \n",
      "1                 14.0                 132.0   0.9940  3.30       0.49   \n",
      "2                 30.0                  97.0   0.9951  3.26       0.44   \n",
      "3                 47.0                 186.0   0.9956  3.19       0.40   \n",
      "4                 47.0                 186.0   0.9956  3.19       0.40   \n",
      "\n",
      "   alcohol  \n",
      "0      8.8  \n",
      "1      9.5  \n",
      "2     10.1  \n",
      "3      9.9  \n",
      "4      9.9  \n",
      "(4898, 11)\n",
      "<class 'pandas.core.frame.DataFrame'>\n",
      "RangeIndex: 4898 entries, 0 to 4897\n",
      "Data columns (total 11 columns):\n",
      " #   Column                Non-Null Count  Dtype  \n",
      "---  ------                --------------  -----  \n",
      " 0   fixed acidity         4898 non-null   float64\n",
      " 1   volatile acidity      4898 non-null   float64\n",
      " 2   citric acid           4898 non-null   float64\n",
      " 3   residual sugar        4898 non-null   float64\n",
      " 4   chlorides             4898 non-null   float64\n",
      " 5   free sulfur dioxide   4898 non-null   float64\n",
      " 6   total sulfur dioxide  4898 non-null   float64\n",
      " 7   density               4898 non-null   float64\n",
      " 8   pH                    4898 non-null   float64\n",
      " 9   sulphates             4898 non-null   float64\n",
      " 10  alcohol               4898 non-null   float64\n",
      "dtypes: float64(11)\n",
      "memory usage: 421.0 KB\n",
      "None\n",
      "       fixed acidity  volatile acidity  citric acid  residual sugar  \\\n",
      "count    4898.000000       4898.000000  4898.000000     4898.000000   \n",
      "mean        6.854788          0.278241     0.334192        6.391415   \n",
      "std         0.843868          0.100795     0.121020        5.072058   \n",
      "min         3.800000          0.080000     0.000000        0.600000   \n",
      "25%         6.300000          0.210000     0.270000        1.700000   \n",
      "50%         6.800000          0.260000     0.320000        5.200000   \n",
      "75%         7.300000          0.320000     0.390000        9.900000   \n",
      "max        14.200000          1.100000     1.660000       65.800000   \n",
      "\n",
      "         chlorides  free sulfur dioxide  total sulfur dioxide      density  \\\n",
      "count  4898.000000          4898.000000           4898.000000  4898.000000   \n",
      "mean      0.045772            35.308085            138.360657     0.994027   \n",
      "std       0.021848            17.007137             42.498065     0.002991   \n",
      "min       0.009000             2.000000              9.000000     0.987110   \n",
      "25%       0.036000            23.000000            108.000000     0.991723   \n",
      "50%       0.043000            34.000000            134.000000     0.993740   \n",
      "75%       0.050000            46.000000            167.000000     0.996100   \n",
      "max       0.346000           289.000000            440.000000     1.038980   \n",
      "\n",
      "                pH    sulphates      alcohol  \n",
      "count  4898.000000  4898.000000  4898.000000  \n",
      "mean      3.188267     0.489847    10.514267  \n",
      "std       0.151001     0.114126     1.230621  \n",
      "min       2.720000     0.220000     8.000000  \n",
      "25%       3.090000     0.410000     9.500000  \n",
      "50%       3.180000     0.470000    10.400000  \n",
      "75%       3.280000     0.550000    11.400000  \n",
      "max       3.820000     1.080000    14.200000  \n"
     ]
    }
   ],
   "source": [
    "\n",
    "# Importing dataset and examining it\n",
    "dataset = pd.read_csv(\"Drink.csv\")\n",
    "print(dataset.head())\n",
    "print(dataset.shape)\n",
    "print(dataset.info())\n",
    "print(dataset.describe())"
   ]
  },
  {
   "cell_type": "code",
   "execution_count": null,
   "metadata": {},
   "outputs": [],
   "source": [
    "# Plotting Correlation Heatmap\n",
    "corrs = dataset.corr()\n",
    "figure = ff.create_annotated_heatmap(\n",
    "    z=corrs.values,\n",
    "    x=list(corrs.columns),\n",
    "    y=list(corrs.index),\n",
    "    annotation_text=corrs.round(2).values,\n",
    "    showscale=True)\n",
    "offline.plot(figure,filename='corrheatmap_drink.html')"
   ]
  },
  {
   "cell_type": "code",
   "execution_count": 14,
   "metadata": {},
   "outputs": [],
   "source": [
    "#define functions to reuse\n",
    "def plot_elbow(dataset,columnToConvert, mean):\n",
    "    #creating a subset5 without Y as\n",
    "    subset = dataset;\n",
    "    print(subset)\n",
    "    subset.info()\n",
    "    print(subset.describe())\n",
    "\n",
    "    # Defining ca\n",
    "    def converter(column):\n",
    "        if column <= mean:\n",
    "            return 0 # low\n",
    "        else:\n",
    "            return 1 # high\n",
    "\n",
    "    subset[columnToConvert] = subset[columnToConvert].apply(converter)\n",
    "\n",
    "\n",
    "\n",
    "    feature_scaler = StandardScaler()\n",
    "    subset_scaled = feature_scaler.fit_transform(subset)\n",
    "    print(subset_scaled)\n",
    "\n",
    "    # Finding the number of clusters (K) - Elbow Plot Method\n",
    "    inertia_subset = []\n",
    "    for i in range(1,11):\n",
    "        kmeans_subset = KMeans(n_clusters = i, random_state = 100)\n",
    "        kmeans_subset.fit(subset_scaled)\n",
    "        inertia_subset.append(kmeans_subset.inertia_)\n",
    "\n",
    "    plt.plot(range(1, 11), inertia_subset)\n",
    "    plt.title('The Elbow Plot')\n",
    "    plt.xlabel('Number of clusters')\n",
    "    plt.ylabel('Inertia')\n",
    "    plt.show()\n",
    "    return subset_scaled\n"
   ]
  },
  {
   "cell_type": "code",
   "execution_count": null,
   "metadata": {
    "jupyter": {
     "source_hidden": true
    }
   },
   "outputs": [],
   "source": [
    "\n",
    "    "
   ]
  },
  {
   "cell_type": "code",
   "execution_count": 5,
   "metadata": {},
   "outputs": [],
   "source": [
    "\n",
    "dataset = dataset.drop(['density'],axis=1)\n",
    "\n",
    "feature_scaler = StandardScaler()\n",
    "X = feature_scaler.fit_transform(dataset)"
   ]
  },
  {
   "cell_type": "code",
   "execution_count": 6,
   "metadata": {},
   "outputs": [],
   "source": [
    "# Analysis on Personal Data\n",
    "# Finding the number of clusters (K) - Elbow Plot Method\n",
    "inertia = []\n",
    "for i in range(1,11):\n",
    "    kmeans = KMeans(n_clusters = i, random_state = 100)\n",
    "    kmeans.fit(X)\n",
    "    inertia.append(kmeans.inertia_)"
   ]
  },
  {
   "cell_type": "code",
   "execution_count": 7,
   "metadata": {},
   "outputs": [
    {
     "data": {
      "image/png": "[encoded data removed]",
      "text/plain": [
       "<Figure size 432x288 with 1 Axes>"
      ]
     },
     "metadata": {
      "needs_background": "light"
     },
     "output_type": "display_data"
    }
   ],
   "source": [
    "plt.plot(range(1, 11), inertia)\n",
    "plt.title('The Elbow Plot')\n",
    "plt.xlabel('Number of clusters')\n",
    "plt.ylabel('Inertia')\n",
    "plt.show()"
   ]
  },
  {
   "cell_type": "code",
   "execution_count": 8,
   "metadata": {},
   "outputs": [],
   "source": [
    "# Running KMeans to generate labels\n",
    "kmeans = KMeans(n_clusters = 2)\n",
    "kmeans.fit(X)\n",
    "# Implementing t-SNE to visualize dataset\n",
    "tsne = TSNE(n_components = 2, perplexity =40,n_iter=3500)\n",
    "x_tsne = tsne.fit_transform(X)\n",
    "\n",
    "\n",
    "\n",
    "fixedacidity = list(dataset['fixed acidity'])\n",
    "volatileacidity = list(dataset['volatile acidity'])\n",
    "citricacid = list(dataset['citric acid'])\n",
    "residualsugar = list(dataset['residual sugar'])\n",
    "chlorides = list(dataset['chlorides'])\n",
    "freesulfurdioxide = list(dataset['free sulfur dioxide'])\n",
    "totalsulfurdioxide = list(dataset['total sulfur dioxide'])\n",
    "#density = list(dataset['density'])\n",
    "ph = list(dataset['pH'])\n",
    "sulphates = list(dataset['sulphates'])\n",
    "alcohol = list(dataset['alcohol'])\n",
    "data = [go.Scatter(x=x_tsne[:,0], y=x_tsne[:,1], mode='markers', \n",
    "                    marker = dict(color=kmeans.labels_, colorscale='Rainbow', opacity=0.5),\n",
    "                    text=[f'FA: {a} ; VA: {b}; CA:{c}; RS:{d}; C :{e}; FSD :{f}; TSD :{g};ph :{i};sulphates :{j};alcohol :{k}' for a,b,c,d,e,f,g,i,j,k in list(zip(fixedacidity,volatileacidity,citricacid,residualsugar,chlorides,freesulfurdioxide,totalsulfurdioxide,ph,sulphates,alcohol))],\n",
    "                    hoverinfo='text')]\n",
    "\n"
   ]
  },
  {
   "cell_type": "code",
   "execution_count": 9,
   "metadata": {},
   "outputs": [
    {
     "data": {
      "text/plain": [
       "'t-SNE_fullset_per40_3500_1.html'"
      ]
     },
     "execution_count": 9,
     "metadata": {},
     "output_type": "execute_result"
    }
   ],
   "source": [
    "layout = go.Layout(title = 't-SNE Dimensionality Reduction', width = 700, height = 700,\n",
    "                    xaxis = dict(title='First Dimension'),\n",
    "                    yaxis = dict(title='Second Dimension'))\n",
    "fig = go.Figure(data=data, layout=layout)\n",
    "offline.plot(fig,filename='t-SNE_fullset_per40_3500_1.html')"
   ]
  },
  {
   "cell_type": "code",
   "execution_count": 10,
   "metadata": {},
   "outputs": [
    {
     "name": "stdout",
     "output_type": "stream",
     "text": [
      "      fixed acidity  alcohol  residual sugar\n",
      "0               7.0      8.8            20.7\n",
      "1               6.3      9.5             1.6\n",
      "2               8.1     10.1             6.9\n",
      "3               7.2      9.9             8.5\n",
      "4               7.2      9.9             8.5\n",
      "...             ...      ...             ...\n",
      "4893            6.2     11.2             1.6\n",
      "4894            6.6      9.6             8.0\n",
      "4895            6.5      9.4             1.2\n",
      "4896            5.5     12.8             1.1\n",
      "4897            6.0     11.8             0.8\n",
      "\n",
      "[4898 rows x 3 columns]\n"
     ]
    }
   ],
   "source": [
    "#creating a subset\n",
    "subset1 = dataset[['fixed acidity','alcohol','residual sugar']]\n",
    "print(subset1)"
   ]
  },
  {
   "cell_type": "code",
   "execution_count": 11,
   "metadata": {},
   "outputs": [
    {
     "name": "stdout",
     "output_type": "stream",
     "text": [
      "<class 'pandas.core.frame.DataFrame'>\n",
      "RangeIndex: 4898 entries, 0 to 4897\n",
      "Data columns (total 3 columns):\n",
      " #   Column          Non-Null Count  Dtype  \n",
      "---  ------          --------------  -----  \n",
      " 0   fixed acidity   4898 non-null   float64\n",
      " 1   alcohol         4898 non-null   float64\n",
      " 2   residual sugar  4898 non-null   float64\n",
      "dtypes: float64(3)\n",
      "memory usage: 114.9 KB\n",
      "       fixed acidity      alcohol  residual sugar\n",
      "count    4898.000000  4898.000000     4898.000000\n",
      "mean        6.854788    10.514267        6.391415\n",
      "std         0.843868     1.230621        5.072058\n",
      "min         3.800000     8.000000        0.600000\n",
      "25%         6.300000     9.500000        1.700000\n",
      "50%         6.800000    10.400000        5.200000\n",
      "75%         7.300000    11.400000        9.900000\n",
      "max        14.200000    14.200000       65.800000\n"
     ]
    }
   ],
   "source": [
    "subset1.info()\n",
    "print(subset1.describe())"
   ]
  },
  {
   "cell_type": "code",
   "execution_count": 12,
   "metadata": {},
   "outputs": [],
   "source": [
    "# Defining residual sugar\n",
    "def converter(column):\n",
    "    if column <= 6.391415:\n",
    "        return 0 # low\n",
    "    else:\n",
    "        return 1 # high\n",
    "\n",
    "subset1['residual sugar'] = subset1['residual sugar'].apply(converter)"
   ]
  },
  {
   "cell_type": "code",
   "execution_count": 14,
   "metadata": {},
   "outputs": [
    {
     "data": {
      "text/html": [
       "<div>\n",
       "<style scoped>\n",
       "    .dataframe tbody tr th:only-of-type {\n",
       "        vertical-align: middle;\n",
       "    }\n",
       "\n",
       "    .dataframe tbody tr th {\n",
       "        vertical-align: top;\n",
       "    }\n",
       "\n",
       "    .dataframe thead th {\n",
       "        text-align: right;\n",
       "    }\n",
       "</style>\n",
       "<table border=\"1\" class=\"dataframe\">\n",
       "  <thead>\n",
       "    <tr style=\"text-align: right;\">\n",
       "      <th></th>\n",
       "      <th>fixed acidity</th>\n",
       "      <th>alcohol</th>\n",
       "      <th>residual sugar</th>\n",
       "    </tr>\n",
       "  </thead>\n",
       "  <tbody>\n",
       "    <tr>\n",
       "      <th>0</th>\n",
       "      <td>7.0</td>\n",
       "      <td>8.8</td>\n",
       "      <td>1</td>\n",
       "    </tr>\n",
       "    <tr>\n",
       "      <th>1</th>\n",
       "      <td>6.3</td>\n",
       "      <td>9.5</td>\n",
       "      <td>0</td>\n",
       "    </tr>\n",
       "    <tr>\n",
       "      <th>2</th>\n",
       "      <td>8.1</td>\n",
       "      <td>10.1</td>\n",
       "      <td>1</td>\n",
       "    </tr>\n",
       "    <tr>\n",
       "      <th>3</th>\n",
       "      <td>7.2</td>\n",
       "      <td>9.9</td>\n",
       "      <td>1</td>\n",
       "    </tr>\n",
       "    <tr>\n",
       "      <th>4</th>\n",
       "      <td>7.2</td>\n",
       "      <td>9.9</td>\n",
       "      <td>1</td>\n",
       "    </tr>\n",
       "  </tbody>\n",
       "</table>\n",
       "</div>"
      ],
      "text/plain": [
       "   fixed acidity  alcohol  residual sugar\n",
       "0            7.0      8.8               1\n",
       "1            6.3      9.5               0\n",
       "2            8.1     10.1               1\n",
       "3            7.2      9.9               1\n",
       "4            7.2      9.9               1"
      ]
     },
     "execution_count": 14,
     "metadata": {},
     "output_type": "execute_result"
    }
   ],
   "source": [
    "subset1.head()\n"
   ]
  },
  {
   "cell_type": "code",
   "execution_count": 15,
   "metadata": {},
   "outputs": [
    {
     "name": "stdout",
     "output_type": "stream",
     "text": [
      "[[ 0.17209696 -1.39315246  1.12540804]\n",
      " [-0.65750113 -0.82427568 -0.8885666 ]\n",
      " [ 1.4757511  -0.33666701  1.12540804]\n",
      " ...\n",
      " [-0.4204731  -0.90554379 -0.8885666 ]\n",
      " [-1.60561323  1.85757201 -0.8885666 ]\n",
      " [-1.01304317  1.04489089 -0.8885666 ]]\n"
     ]
    }
   ],
   "source": [
    "#subset_X = subset1.drop(['residual sugar'], axis = 1) # Features\n",
    "#subset_Y = subset1['residual sugar'] # Labels\n",
    "#print(subset_X)\n",
    "#print(subset_Y)\n",
    "\n",
    "#without dropping the Y variable. we scale the full subset.\n",
    "feature_scaler = StandardScaler()\n",
    "X_subset1_scaled = feature_scaler.fit_transform(subset1)\n",
    "print(X_subset1_scaled)"
   ]
  },
  {
   "cell_type": "code",
   "execution_count": 16,
   "metadata": {},
   "outputs": [
    {
     "data": {
      "image/png": "[encoded data removed]",
      "text/plain": [
       "<Figure size 432x288 with 1 Axes>"
      ]
     },
     "metadata": {
      "needs_background": "light"
     },
     "output_type": "display_data"
    }
   ],
   "source": [
    "\n",
    "# Finding the number of clusters (K) - Elbow Plot Method\n",
    "inertia_subset1 = []\n",
    "for i in range(1,11):\n",
    "    kmeans_subset1 = KMeans(n_clusters = i, random_state = 100)\n",
    "    kmeans_subset1.fit(X_subset1_scaled)\n",
    "    inertia_subset1.append(kmeans_subset1.inertia_)\n",
    "    \n",
    "plt.plot(range(1, 11), inertia_subset1)\n",
    "plt.title('The Elbow Plot')\n",
    "plt.xlabel('Number of clusters')\n",
    "plt.ylabel('Inertia')\n",
    "plt.show()"
   ]
  },
  {
   "cell_type": "code",
   "execution_count": 19,
   "metadata": {},
   "outputs": [
    {
     "data": {
      "text/plain": [
       "'t-SNE__subset1_per40_2000.html'"
      ]
     },
     "execution_count": 19,
     "metadata": {},
     "output_type": "execute_result"
    }
   ],
   "source": [
    "# Running KMeans to generate labels\n",
    "kmeans_subset1 = KMeans(n_clusters = 2)\n",
    "kmeans_subset1.fit(X_subset1_scaled)\n",
    "# Implementing t-SNE to visualize dataset\n",
    "tsne_subset1 = TSNE(n_components = 2, perplexity =150,n_iter=2000)\n",
    "x_tsne_subset1 = tsne_subset1.fit_transform(X_subset1_scaled)\n",
    "\n",
    "\n",
    "\n",
    "fixedacidity = list(subset1['fixed acidity'])\n",
    "\n",
    "residualsugar = list(subset1['residual sugar'])\n",
    "alcohol = list(subset1['alcohol'])\n",
    "data = [go.Scatter(x=x_tsne_subset1[:,0], y=x_tsne_subset1[:,1], mode='markers', \n",
    "                    marker = dict(color=kmeans_subset1.labels_, colorscale='Rainbow', opacity=0.5),\n",
    "                    text=[f'FA: {a} ;  RS:{b}; alcohol :{c}' for a,b,c in list(zip(fixedacidity,residualsugar,alcohol))],\n",
    "                    hoverinfo='text')]\n",
    "\n",
    "layout = go.Layout(title = 't-SNE subset1_per40_2000 fixed acidity alcohol residual S', width = 700, height = 700,\n",
    "                    xaxis = dict(title='First Dimension'),\n",
    "                    yaxis = dict(title='Second Dimension'))\n",
    "fig = go.Figure(data=data, layout=layout)\n",
    "offline.plot(fig,filename='t-SNE__subset1_per40_2000.html')"
   ]
  },
  {
   "cell_type": "code",
   "execution_count": 20,
   "metadata": {},
   "outputs": [
    {
     "name": "stdout",
     "output_type": "stream",
     "text": [
      "      fixed acidity  alcohol  total sulfur dioxide    pH  residual sugar\n",
      "0               7.0      8.8                 170.0  3.00            20.7\n",
      "1               6.3      9.5                 132.0  3.30             1.6\n",
      "2               8.1     10.1                  97.0  3.26             6.9\n",
      "3               7.2      9.9                 186.0  3.19             8.5\n",
      "4               7.2      9.9                 186.0  3.19             8.5\n",
      "...             ...      ...                   ...   ...             ...\n",
      "4893            6.2     11.2                  92.0  3.27             1.6\n",
      "4894            6.6      9.6                 168.0  3.15             8.0\n",
      "4895            6.5      9.4                 111.0  2.99             1.2\n",
      "4896            5.5     12.8                 110.0  3.34             1.1\n",
      "4897            6.0     11.8                  98.0  3.26             0.8\n",
      "\n",
      "[4898 rows x 5 columns]\n",
      "<class 'pandas.core.frame.DataFrame'>\n",
      "RangeIndex: 4898 entries, 0 to 4897\n",
      "Data columns (total 3 columns):\n",
      " #   Column          Non-Null Count  Dtype  \n",
      "---  ------          --------------  -----  \n",
      " 0   fixed acidity   4898 non-null   float64\n",
      " 1   alcohol         4898 non-null   float64\n",
      " 2   residual sugar  4898 non-null   int64  \n",
      "dtypes: float64(2), int64(1)\n",
      "memory usage: 114.9 KB\n",
      "       fixed acidity      alcohol  total sulfur dioxide           pH  \\\n",
      "count    4898.000000  4898.000000           4898.000000  4898.000000   \n",
      "mean        6.854788    10.514267            138.360657     3.188267   \n",
      "std         0.843868     1.230621             42.498065     0.151001   \n",
      "min         3.800000     8.000000              9.000000     2.720000   \n",
      "25%         6.300000     9.500000            108.000000     3.090000   \n",
      "50%         6.800000    10.400000            134.000000     3.180000   \n",
      "75%         7.300000    11.400000            167.000000     3.280000   \n",
      "max        14.200000    14.200000            440.000000     3.820000   \n",
      "\n",
      "       residual sugar  \n",
      "count     4898.000000  \n",
      "mean         6.391415  \n",
      "std          5.072058  \n",
      "min          0.600000  \n",
      "25%          1.700000  \n",
      "50%          5.200000  \n",
      "75%          9.900000  \n",
      "max         65.800000  \n",
      "      fixed acidity  alcohol  total sulfur dioxide    pH\n",
      "0               7.0      8.8                 170.0  3.00\n",
      "1               6.3      9.5                 132.0  3.30\n",
      "2               8.1     10.1                  97.0  3.26\n",
      "3               7.2      9.9                 186.0  3.19\n",
      "4               7.2      9.9                 186.0  3.19\n",
      "...             ...      ...                   ...   ...\n",
      "4893            6.2     11.2                  92.0  3.27\n",
      "4894            6.6      9.6                 168.0  3.15\n",
      "4895            6.5      9.4                 111.0  2.99\n",
      "4896            5.5     12.8                 110.0  3.34\n",
      "4897            6.0     11.8                  98.0  3.26\n",
      "\n",
      "[4898 rows x 4 columns]\n",
      "0       1\n",
      "1       0\n",
      "2       1\n",
      "3       1\n",
      "4       1\n",
      "       ..\n",
      "4893    0\n",
      "4894    1\n",
      "4895    0\n",
      "4896    0\n",
      "4897    0\n",
      "Name: residual sugar, Length: 4898, dtype: int64\n",
      "[[ 0.17209696 -1.39315246  0.74456503 -1.24692128]\n",
      " [-0.65750113 -0.82427568 -0.14968462  0.74002864]\n",
      " [ 1.4757511  -0.33666701 -0.97333563  0.47510198]\n",
      " ...\n",
      " [-0.4204731  -0.90554379 -0.64387523 -1.31315295]\n",
      " [-1.60561323  1.85757201 -0.66740811  1.0049553 ]\n",
      " [-1.01304317  1.04489089 -0.94980274  0.47510198]]\n"
     ]
    }
   ],
   "source": [
    "#creating a subset\n",
    "subset2 = dataset[['fixed acidity','alcohol','total sulfur dioxide', 'pH','residual sugar']]\n",
    "print(subset2)\n",
    "subset1.info()\n",
    "print(subset2.describe())\n",
    "# Defining residual sugar\n",
    "def converter(column):\n",
    "    if column <= 6:\n",
    "        return 0 # low\n",
    "    else:\n",
    "        return 1 # high\n",
    "\n",
    "subset2['residual sugar'] = subset2['residual sugar'].apply(converter)\n",
    "\n",
    "subset2_X = subset2.drop(['residual sugar'], axis = 1) # Features\n",
    "subset2_Y = subset2['residual sugar'] # Labels\n",
    "print(subset2_X)\n",
    "print(subset2_Y)\n",
    "\n",
    "feature_scaler = StandardScaler()\n",
    "X_subset2_scaled = feature_scaler.fit_transform(subset2_X)\n",
    "print(X_subset2_scaled)"
   ]
  },
  {
   "cell_type": "code",
   "execution_count": 21,
   "metadata": {},
   "outputs": [
    {
     "data": {
      "image/png": "[encoded data removed]",
      "text/plain": [
       "<Figure size 432x288 with 1 Axes>"
      ]
     },
     "metadata": {
      "needs_background": "light"
     },
     "output_type": "display_data"
    }
   ],
   "source": [
    "# Finding the number of clusters (K) - Elbow Plot Method\n",
    "inertia_subset2 = []\n",
    "for i in range(1,11):\n",
    "    kmeans_subset2 = KMeans(n_clusters = i, random_state = 100)\n",
    "    kmeans_subset2.fit(X_subset2_scaled)\n",
    "    inertia_subset2.append(kmeans_subset2.inertia_)\n",
    "    \n",
    "plt.plot(range(1, 11), inertia_subset2)\n",
    "plt.title('The Elbow Plot')\n",
    "plt.xlabel('Number of clusters')\n",
    "plt.ylabel('Inertia')\n",
    "plt.show()"
   ]
  },
  {
   "cell_type": "code",
   "execution_count": 24,
   "metadata": {},
   "outputs": [
    {
     "data": {
      "text/plain": [
       "'t-SNE__subset2_per30_2000.html'"
      ]
     },
     "execution_count": 24,
     "metadata": {},
     "output_type": "execute_result"
    }
   ],
   "source": [
    "# Running KMeans to generate labels\n",
    "kmeans_subset2 = KMeans(n_clusters = 3)\n",
    "kmeans_subset2.fit(X_subset2_scaled)\n",
    "# Implementing t-SNE to visualize dataset\n",
    "tsne_subset2 = TSNE(n_components = 2, perplexity =90,n_iter=2000)\n",
    "x_tsne_subset2 = tsne_subset2.fit_transform(X_subset2_scaled)\n",
    "\n",
    "\n",
    "\n",
    "fixedacidity = list(subset2['fixed acidity'])\n",
    "ph = list(subset2['pH'])\n",
    "totalsulphurdioxide = list(subset2['total sulfur dioxide'])\n",
    "residualsugar = list(subset2['residual sugar'])\n",
    "alcohol = list(subset2['alcohol'])\n",
    "data = [go.Scatter(x=x_tsne_subset2[:,0], y=x_tsne_subset2[:,1], mode='markers', \n",
    "                    marker = dict(color=kmeans_subset2.labels_, colorscale='Rainbow', opacity=0.5),\n",
    "                    text=[f'FA: {a} ;  RS:{b}; alcohol :{c}; tsd :{d}; ph:{e}' for a,b,c,d,e in list(zip(fixedacidity,residualsugar,alcohol,totalsulphurdioxide,ph))],\n",
    "                    hoverinfo='text')]\n",
    "\n",
    "layout = go.Layout(title = 't-SNE with fixedacidity ph totalsulpd residuals alcohol. Y= RS', width = 700, height = 700,\n",
    "                    xaxis = dict(title='First Dimension'),\n",
    "                    yaxis = dict(title='Second Dimension'))\n",
    "fig = go.Figure(data=data, layout=layout)\n",
    "offline.plot(fig,filename='t-SNE__subset2_per30_2000.html')"
   ]
  },
  {
   "cell_type": "code",
   "execution_count": 26,
   "metadata": {},
   "outputs": [
    {
     "name": "stdout",
     "output_type": "stream",
     "text": [
      "      fixed acidity  alcohol  total sulfur dioxide  citric acid  \\\n",
      "0               7.0      8.8                 170.0         0.36   \n",
      "1               6.3      9.5                 132.0         0.34   \n",
      "2               8.1     10.1                  97.0         0.40   \n",
      "3               7.2      9.9                 186.0         0.32   \n",
      "4               7.2      9.9                 186.0         0.32   \n",
      "...             ...      ...                   ...          ...   \n",
      "4893            6.2     11.2                  92.0         0.29   \n",
      "4894            6.6      9.6                 168.0         0.36   \n",
      "4895            6.5      9.4                 111.0         0.19   \n",
      "4896            5.5     12.8                 110.0         0.30   \n",
      "4897            6.0     11.8                  98.0         0.38   \n",
      "\n",
      "      residual sugar  \n",
      "0               20.7  \n",
      "1                1.6  \n",
      "2                6.9  \n",
      "3                8.5  \n",
      "4                8.5  \n",
      "...              ...  \n",
      "4893             1.6  \n",
      "4894             8.0  \n",
      "4895             1.2  \n",
      "4896             1.1  \n",
      "4897             0.8  \n",
      "\n",
      "[4898 rows x 5 columns]\n",
      "<class 'pandas.core.frame.DataFrame'>\n",
      "RangeIndex: 4898 entries, 0 to 4897\n",
      "Data columns (total 5 columns):\n",
      " #   Column                Non-Null Count  Dtype  \n",
      "---  ------                --------------  -----  \n",
      " 0   fixed acidity         4898 non-null   float64\n",
      " 1   alcohol               4898 non-null   float64\n",
      " 2   total sulfur dioxide  4898 non-null   float64\n",
      " 3   citric acid           4898 non-null   float64\n",
      " 4   residual sugar        4898 non-null   float64\n",
      "dtypes: float64(5)\n",
      "memory usage: 191.5 KB\n",
      "       fixed acidity      alcohol  total sulfur dioxide  citric acid  \\\n",
      "count    4898.000000  4898.000000           4898.000000  4898.000000   \n",
      "mean        6.854788    10.514267            138.360657     0.334192   \n",
      "std         0.843868     1.230621             42.498065     0.121020   \n",
      "min         3.800000     8.000000              9.000000     0.000000   \n",
      "25%         6.300000     9.500000            108.000000     0.270000   \n",
      "50%         6.800000    10.400000            134.000000     0.320000   \n",
      "75%         7.300000    11.400000            167.000000     0.390000   \n",
      "max        14.200000    14.200000            440.000000     1.660000   \n",
      "\n",
      "       residual sugar  \n",
      "count     4898.000000  \n",
      "mean         6.391415  \n",
      "std          5.072058  \n",
      "min          0.600000  \n",
      "25%          1.700000  \n",
      "50%          5.200000  \n",
      "75%          9.900000  \n",
      "max         65.800000  \n",
      "[[ 0.17209696 -1.39315246  0.74456503  0.2132802   2.82134917]\n",
      " [-0.65750113 -0.82427568 -0.14968462  0.04800112 -0.94476527]\n",
      " [ 1.4757511  -0.33666701 -0.97333563  0.54383836  0.10028219]\n",
      " ...\n",
      " [-0.4204731  -0.90554379 -0.64387523 -1.19159198 -1.02363678]\n",
      " [-1.60561323  1.85757201 -0.66740811 -0.28255704 -1.04335466]\n",
      " [-1.01304317  1.04489089 -0.94980274  0.37855928 -1.10250829]]\n"
     ]
    }
   ],
   "source": [
    "#creating a subset3\n",
    "subset3 = dataset[['fixed acidity','alcohol','total sulfur dioxide', 'citric acid','residual sugar']]\n",
    "print(subset3)\n",
    "subset3.info()\n",
    "print(subset3.describe())\n",
    "# Defining ca\n",
    "def converter(column):\n",
    "    if column <= 0.33:\n",
    "        return 0 # low\n",
    "    else:\n",
    "        return 1 # high\n",
    "\n",
    "#subset3['citric acid'] = subset3['citric acid'].apply(converter)\n",
    "\n",
    "#subset3_X = subset3.drop(['citric acid'], axis = 1) # Features\n",
    "#subset3_Y = subset3['citric acid'] # Labels\n",
    "#print(subset3_X)\n",
    "#print(subset3_Y)\n",
    "\n",
    "feature_scaler = StandardScaler()\n",
    "X_subset3_scaled = feature_scaler.fit_transform(subset3)\n",
    "print(X_subset3_scaled)"
   ]
  },
  {
   "cell_type": "code",
   "execution_count": 27,
   "metadata": {},
   "outputs": [
    {
     "data": {
      "image/png": "[encoded data removed]",
      "text/plain": [
       "<Figure size 432x288 with 1 Axes>"
      ]
     },
     "metadata": {
      "needs_background": "light"
     },
     "output_type": "display_data"
    }
   ],
   "source": [
    "# Finding the number of clusters (K) - Elbow Plot Method\n",
    "inertia_subset3 = []\n",
    "for i in range(1,11):\n",
    "    kmeans_subset3 = KMeans(n_clusters = i, random_state = 100)\n",
    "    kmeans_subset3.fit(X_subset3_scaled)\n",
    "    inertia_subset3.append(kmeans_subset3.inertia_)\n",
    "    \n",
    "plt.plot(range(1, 11), inertia_subset3)\n",
    "plt.title('The Elbow Plot')\n",
    "plt.xlabel('Number of clusters')\n",
    "plt.ylabel('Inertia')\n",
    "plt.show()"
   ]
  },
  {
   "cell_type": "code",
   "execution_count": 28,
   "metadata": {},
   "outputs": [
    {
     "data": {
      "text/plain": [
       "'t-SNE__subset3_per30_2000.html'"
      ]
     },
     "execution_count": 28,
     "metadata": {},
     "output_type": "execute_result"
    }
   ],
   "source": [
    "# Running KMeans to generate labels\n",
    "kmeans_subset3 = KMeans(n_clusters = 2)\n",
    "kmeans_subset3.fit(X_subset3_scaled)\n",
    "# Implementing t-SNE to visualize dataset\n",
    "tsne_subset3 = TSNE(n_components = 2, perplexity =70,n_iter=2000)\n",
    "x_tsne_subset3 = tsne_subset3.fit_transform(X_subset3_scaled)\n",
    "\n",
    "\n",
    "\n",
    "fixedacidity = list(subset3['fixed acidity'])\n",
    "ca = list(subset3['citric acid'])\n",
    "totalsulphurdioxide = list(subset3['total sulfur dioxide'])\n",
    "residualsugar = list(subset3['residual sugar'])\n",
    "alcohol = list(subset3['alcohol'])\n",
    "data = [go.Scatter(x=x_tsne_subset3[:,0], y=x_tsne_subset3[:,1], mode='markers', \n",
    "                    marker = dict(color=kmeans_subset3.labels_, colorscale='Rainbow', opacity=0.5),\n",
    "                    text=[f'FA: {a} ;  RS:{b}; alcohol :{c}; tsd :{d}; ca:{e}' for a,b,c,d,e in list(zip(fixedacidity,residualsugar,alcohol,totalsulphurdioxide,ca))],\n",
    "                    hoverinfo='text')]\n",
    "\n",
    "layout = go.Layout(title = 't-SNE t-SNE with fixedacidity totalsulpd residuals alcohol. Y= citric acid', width = 700, height = 700,\n",
    "                    xaxis = dict(title='First Dimension'),\n",
    "                    yaxis = dict(title='Second Dimension'))\n",
    "fig = go.Figure(data=data, layout=layout)\n",
    "offline.plot(fig,filename='t-SNE__subset3_per30_2000.html')"
   ]
  },
  {
   "cell_type": "code",
   "execution_count": 29,
   "metadata": {},
   "outputs": [
    {
     "name": "stdout",
     "output_type": "stream",
     "text": [
      "      free sulfur dioxide  total sulfur dioxide  residual sugar\n",
      "0                    45.0                 170.0            20.7\n",
      "1                    14.0                 132.0             1.6\n",
      "2                    30.0                  97.0             6.9\n",
      "3                    47.0                 186.0             8.5\n",
      "4                    47.0                 186.0             8.5\n",
      "...                   ...                   ...             ...\n",
      "4893                 24.0                  92.0             1.6\n",
      "4894                 57.0                 168.0             8.0\n",
      "4895                 30.0                 111.0             1.2\n",
      "4896                 20.0                 110.0             1.1\n",
      "4897                 22.0                  98.0             0.8\n",
      "\n",
      "[4898 rows x 3 columns]\n",
      "<class 'pandas.core.frame.DataFrame'>\n",
      "RangeIndex: 4898 entries, 0 to 4897\n",
      "Data columns (total 3 columns):\n",
      " #   Column                Non-Null Count  Dtype  \n",
      "---  ------                --------------  -----  \n",
      " 0   free sulfur dioxide   4898 non-null   float64\n",
      " 1   total sulfur dioxide  4898 non-null   float64\n",
      " 2   residual sugar        4898 non-null   float64\n",
      "dtypes: float64(3)\n",
      "memory usage: 114.9 KB\n",
      "       free sulfur dioxide  total sulfur dioxide  residual sugar\n",
      "count          4898.000000           4898.000000     4898.000000\n",
      "mean             35.308085            138.360657        6.391415\n",
      "std              17.007137             42.498065        5.072058\n",
      "min               2.000000              9.000000        0.600000\n",
      "25%              23.000000            108.000000        1.700000\n",
      "50%              34.000000            134.000000        5.200000\n",
      "75%              46.000000            167.000000        9.900000\n",
      "max             289.000000            440.000000       65.800000\n",
      "[[ 0.56993158  0.74456503  2.82134917]\n",
      " [-1.25301866 -0.14968462 -0.94476527]\n",
      " [-0.31214112 -0.97333563  0.10028219]\n",
      " ...\n",
      " [-0.31214112 -0.64387523 -1.02363678]\n",
      " [-0.90018958 -0.66740811 -1.04335466]\n",
      " [-0.78257989 -0.94980274 -1.10250829]]\n"
     ]
    },
    {
     "data": {
      "image/png": "[encoded data removed]",
      "text/plain": [
       "<Figure size 432x288 with 1 Axes>"
      ]
     },
     "metadata": {
      "needs_background": "light"
     },
     "output_type": "display_data"
    }
   ],
   "source": [
    "#creating a subset4 without Y\n",
    "subset4 = dataset[['free sulfur dioxide','total sulfur dioxide','residual sugar']]\n",
    "print(subset4)\n",
    "subset4.info()\n",
    "print(subset4.describe())\n",
    "\n",
    "\n",
    "\n",
    "feature_scaler = StandardScaler()\n",
    "X_subset4_scaled = feature_scaler.fit_transform(subset4)\n",
    "print(X_subset4_scaled)\n",
    "\n",
    "# Finding the number of clusters (K) - Elbow Plot Method\n",
    "inertia_subset4 = []\n",
    "for i in range(1,11):\n",
    "    kmeans_subset4 = KMeans(n_clusters = i, random_state = 100)\n",
    "    kmeans_subset4.fit(X_subset4_scaled)\n",
    "    inertia_subset4.append(kmeans_subset4.inertia_)\n",
    "    \n",
    "plt.plot(range(1, 11), inertia_subset4)\n",
    "plt.title('The Elbow Plot')\n",
    "plt.xlabel('Number of clusters')\n",
    "plt.ylabel('Inertia')\n",
    "plt.show()"
   ]
  },
  {
   "cell_type": "code",
   "execution_count": 30,
   "metadata": {},
   "outputs": [
    {
     "data": {
      "text/plain": [
       "'t-SNE__subset4_per30_2000.html'"
      ]
     },
     "execution_count": 30,
     "metadata": {},
     "output_type": "execute_result"
    }
   ],
   "source": [
    "# Running KMeans to generate labels\n",
    "kmeans_subset4 = KMeans(n_clusters = 4)\n",
    "kmeans_subset4.fit(X_subset4_scaled)\n",
    "# Implementing t-SNE to visualize dataset\n",
    "tsne_subset4 = TSNE(n_components = 2, perplexity =5,n_iter=2000)\n",
    "x_tsne_subset4 = tsne_subset4.fit_transform(X_subset4_scaled)\n",
    "\n",
    "\n",
    "\n",
    "free = list(subset4['free sulfur dioxide'])\n",
    "\n",
    "totalsulphurdioxide = list(subset4['total sulfur dioxide'])\n",
    "residualsugar = list(subset4['residual sugar'])\n",
    "\n",
    "data = [go.Scatter(x=x_tsne_subset4[:,0], y=x_tsne_subset4[:,1], mode='markers', \n",
    "                    marker = dict(color=kmeans_subset4.labels_, colorscale='Rainbow', opacity=0.5),\n",
    "                    text=[f'free: {a} ;  RS:{b};tsd :{d}; ' for a,b,d in list(zip(free,residualsugar,totalsulphurdioxide))],\n",
    "                    hoverinfo='text')]\n",
    "\n",
    "layout = go.Layout(title = 't-SNE t-SNE with freesulphur totalsulpd residuals alcohol. NO Y', width = 700, height = 700,\n",
    "                    xaxis = dict(title='First Dimension'),\n",
    "                    yaxis = dict(title='Second Dimension'))\n",
    "fig = go.Figure(data=data, layout=layout)\n",
    "offline.plot(fig,filename='t-SNE__subset4_per30_2000.html')"
   ]
  },
  {
   "cell_type": "code",
   "execution_count": 31,
   "metadata": {},
   "outputs": [
    {
     "name": "stdout",
     "output_type": "stream",
     "text": [
      "      free sulfur dioxide  total sulfur dioxide  residual sugar  alcohol\n",
      "0                    45.0                 170.0            20.7      8.8\n",
      "1                    14.0                 132.0             1.6      9.5\n",
      "2                    30.0                  97.0             6.9     10.1\n",
      "3                    47.0                 186.0             8.5      9.9\n",
      "4                    47.0                 186.0             8.5      9.9\n",
      "...                   ...                   ...             ...      ...\n",
      "4893                 24.0                  92.0             1.6     11.2\n",
      "4894                 57.0                 168.0             8.0      9.6\n",
      "4895                 30.0                 111.0             1.2      9.4\n",
      "4896                 20.0                 110.0             1.1     12.8\n",
      "4897                 22.0                  98.0             0.8     11.8\n",
      "\n",
      "[4898 rows x 4 columns]\n",
      "<class 'pandas.core.frame.DataFrame'>\n",
      "RangeIndex: 4898 entries, 0 to 4897\n",
      "Data columns (total 4 columns):\n",
      " #   Column                Non-Null Count  Dtype  \n",
      "---  ------                --------------  -----  \n",
      " 0   free sulfur dioxide   4898 non-null   float64\n",
      " 1   total sulfur dioxide  4898 non-null   float64\n",
      " 2   residual sugar        4898 non-null   float64\n",
      " 3   alcohol               4898 non-null   float64\n",
      "dtypes: float64(4)\n",
      "memory usage: 153.2 KB\n",
      "       free sulfur dioxide  total sulfur dioxide  residual sugar      alcohol\n",
      "count          4898.000000           4898.000000     4898.000000  4898.000000\n",
      "mean             35.308085            138.360657        6.391415    10.514267\n",
      "std              17.007137             42.498065        5.072058     1.230621\n",
      "min               2.000000              9.000000        0.600000     8.000000\n",
      "25%              23.000000            108.000000        1.700000     9.500000\n",
      "50%              34.000000            134.000000        5.200000    10.400000\n",
      "75%              46.000000            167.000000        9.900000    11.400000\n",
      "max             289.000000            440.000000       65.800000    14.200000\n",
      "[[ 0.56993158  0.74456503  2.82134917 -1.16153376]\n",
      " [-1.25301866 -0.14968462 -0.94476527 -1.16153376]\n",
      " [-0.31214112 -0.97333563  0.10028219  0.86093064]\n",
      " ...\n",
      " [-0.31214112 -0.64387523 -1.02363678 -1.16153376]\n",
      " [-0.90018958 -0.66740811 -1.04335466  0.86093064]\n",
      " [-0.78257989 -0.94980274 -1.10250829  0.86093064]]\n"
     ]
    },
    {
     "data": {
      "image/png": "[encoded data removed]",
      "text/plain": [
       "<Figure size 432x288 with 1 Axes>"
      ]
     },
     "metadata": {
      "needs_background": "light"
     },
     "output_type": "display_data"
    }
   ],
   "source": [
    "#creating a subset5 without Y as\n",
    "subset5 = dataset[['free sulfur dioxide','total sulfur dioxide','residual sugar', 'alcohol']]\n",
    "print(subset5)\n",
    "subset5.info()\n",
    "print(subset5.describe())\n",
    "\n",
    "# Defining ca\n",
    "def converter(column):\n",
    "    if column <= 10:\n",
    "        return 0 # low\n",
    "    else:\n",
    "        return 1 # high\n",
    "\n",
    "subset5['alcohol'] = subset5['alcohol'].apply(converter)\n",
    "\n",
    "\n",
    "\n",
    "feature_scaler = StandardScaler()\n",
    "X_subset5_scaled = feature_scaler.fit_transform(subset5)\n",
    "print(X_subset5_scaled)\n",
    "\n",
    "# Finding the number of clusters (K) - Elbow Plot Method\n",
    "inertia_subset5 = []\n",
    "for i in range(1,11):\n",
    "    kmeans_subset5 = KMeans(n_clusters = i, random_state = 100)\n",
    "    kmeans_subset5.fit(X_subset5_scaled)\n",
    "    inertia_subset5.append(kmeans_subset5.inertia_)\n",
    "    \n",
    "plt.plot(range(1, 11), inertia_subset5)\n",
    "plt.title('The Elbow Plot')\n",
    "plt.xlabel('Number of clusters')\n",
    "plt.ylabel('Inertia')\n",
    "plt.show()"
   ]
  },
  {
   "cell_type": "code",
   "execution_count": 32,
   "metadata": {},
   "outputs": [
    {
     "data": {
      "text/plain": [
       "'t-SNE__subset5_per30_2000.html'"
      ]
     },
     "execution_count": 32,
     "metadata": {},
     "output_type": "execute_result"
    }
   ],
   "source": [
    "# Running KMeans to generate labels\n",
    "kmeans_subset5 = KMeans(n_clusters = 2)\n",
    "kmeans_subset5.fit(X_subset5_scaled)\n",
    "# Implementing t-SNE to visualize dataset\n",
    "tsne_subset5 = TSNE(n_components = 2, perplexity =30,n_iter=2000)\n",
    "x_tsne_subset5 = tsne_subset5.fit_transform(X_subset5_scaled)\n",
    "\n",
    "\n",
    "\n",
    "free = list(subset5['free sulfur dioxide'])\n",
    "\n",
    "totalsulphurdioxide = list(subset5['total sulfur dioxide'])\n",
    "residualsugar = list(subset5['residual sugar'])\n",
    "al = list(subset5['alcohol'])\n",
    "\n",
    "data = [go.Scatter(x=x_tsne_subset5[:,0], y=x_tsne_subset5[:,1], mode='markers', \n",
    "                    marker = dict(color=kmeans_subset5.labels_, colorscale='Rainbow', opacity=0.5),\n",
    "                    text=[f'free: {a} ;  RS:{b};tsd :{d}; al:{c} ' for a,b,d,c in list(zip(free,residualsugar,totalsulphurdioxide,al))],\n",
    "                    hoverinfo='text')]\n",
    "\n",
    "layout = go.Layout(title = 't-SNE t-SNE with freesulphur totalsulpd residuals Y= alcohol', width = 700, height = 700,\n",
    "                    xaxis = dict(title='First Dimension'),\n",
    "                    yaxis = dict(title='Second Dimension'))\n",
    "fig = go.Figure(data=data, layout=layout)\n",
    "offline.plot(fig,filename='t-SNE__subset5_per30_2000.html')"
   ]
  },
  {
   "cell_type": "code",
   "execution_count": 29,
   "metadata": {},
   "outputs": [
    {
     "name": "stdout",
     "output_type": "stream",
     "text": [
      "<class 'pandas.core.frame.DataFrame'>\n",
      "RangeIndex: 4898 entries, 0 to 4897\n",
      "Data columns (total 4 columns):\n",
      " #   Column                Non-Null Count  Dtype  \n",
      "---  ------                --------------  -----  \n",
      " 0   total sulfur dioxide  4898 non-null   float64\n",
      " 1   residual sugar        4898 non-null   float64\n",
      " 2   alcohol               4898 non-null   float64\n",
      " 3   free sulfur dioxide   4898 non-null   float64\n",
      "dtypes: float64(4)\n",
      "memory usage: 153.2 KB\n",
      "       total sulfur dioxide  residual sugar      alcohol  free sulfur dioxide\n",
      "count           4898.000000     4898.000000  4898.000000          4898.000000\n",
      "mean             138.360657        6.391415    10.514267            35.308085\n",
      "std               42.498065        5.072058     1.230621            17.007137\n",
      "min                9.000000        0.600000     8.000000             2.000000\n",
      "25%              108.000000        1.700000     9.500000            23.000000\n",
      "50%              134.000000        5.200000    10.400000            34.000000\n",
      "75%              167.000000        9.900000    11.400000            46.000000\n",
      "max              440.000000       65.800000    14.200000           289.000000\n"
     ]
    },
    {
     "data": {
      "text/html": [
       "<div>\n",
       "<style scoped>\n",
       "    .dataframe tbody tr th:only-of-type {\n",
       "        vertical-align: middle;\n",
       "    }\n",
       "\n",
       "    .dataframe tbody tr th {\n",
       "        vertical-align: top;\n",
       "    }\n",
       "\n",
       "    .dataframe thead th {\n",
       "        text-align: right;\n",
       "    }\n",
       "</style>\n",
       "<table border=\"1\" class=\"dataframe\">\n",
       "  <thead>\n",
       "    <tr style=\"text-align: right;\">\n",
       "      <th></th>\n",
       "      <th>total sulfur dioxide</th>\n",
       "      <th>residual sugar</th>\n",
       "      <th>alcohol</th>\n",
       "      <th>free sulfur dioxide</th>\n",
       "    </tr>\n",
       "  </thead>\n",
       "  <tbody>\n",
       "    <tr>\n",
       "      <th>0</th>\n",
       "      <td>170.0</td>\n",
       "      <td>20.7</td>\n",
       "      <td>8.8</td>\n",
       "      <td>45.0</td>\n",
       "    </tr>\n",
       "    <tr>\n",
       "      <th>1</th>\n",
       "      <td>132.0</td>\n",
       "      <td>1.6</td>\n",
       "      <td>9.5</td>\n",
       "      <td>14.0</td>\n",
       "    </tr>\n",
       "    <tr>\n",
       "      <th>2</th>\n",
       "      <td>97.0</td>\n",
       "      <td>6.9</td>\n",
       "      <td>10.1</td>\n",
       "      <td>30.0</td>\n",
       "    </tr>\n",
       "    <tr>\n",
       "      <th>3</th>\n",
       "      <td>186.0</td>\n",
       "      <td>8.5</td>\n",
       "      <td>9.9</td>\n",
       "      <td>47.0</td>\n",
       "    </tr>\n",
       "    <tr>\n",
       "      <th>4</th>\n",
       "      <td>186.0</td>\n",
       "      <td>8.5</td>\n",
       "      <td>9.9</td>\n",
       "      <td>47.0</td>\n",
       "    </tr>\n",
       "  </tbody>\n",
       "</table>\n",
       "</div>"
      ],
      "text/plain": [
       "   total sulfur dioxide  residual sugar  alcohol  free sulfur dioxide\n",
       "0                 170.0            20.7      8.8                 45.0\n",
       "1                 132.0             1.6      9.5                 14.0\n",
       "2                  97.0             6.9     10.1                 30.0\n",
       "3                 186.0             8.5      9.9                 47.0\n",
       "4                 186.0             8.5      9.9                 47.0"
      ]
     },
     "execution_count": 29,
     "metadata": {},
     "output_type": "execute_result"
    }
   ],
   "source": [
    "#creating a subset5 without Y as alcohol\n",
    "subset6 = dataset[['total sulfur dioxide','residual sugar', 'alcohol','free sulfur dioxide']]\n",
    "\n",
    "subset6.info()\n",
    "print(subset6.describe())\n",
    "subset6.head()"
   ]
  },
  {
   "cell_type": "code",
   "execution_count": 30,
   "metadata": {},
   "outputs": [],
   "source": [
    "# Defining tsd\n",
    "def convertertsd(column):\n",
    "    if column <= 108:\n",
    "        return 0 # low\n",
    "    elif column > 108 and column<167:\n",
    "        return 1\n",
    "    else:\n",
    "        return 2 # high\n",
    "subset6['total sulfur dioxide'] = subset6['total sulfur dioxide'].apply(convertertsd)\n",
    "\n",
    "def converterfsd(column):\n",
    "    if column <= 23:\n",
    "        return 0 # low\n",
    "    elif column > 23 and column<46:\n",
    "        return 1\n",
    "    else:\n",
    "        return 2 # high\n",
    "subset6['free sulfur dioxide'] = subset6['free sulfur dioxide'].apply(converterfsd)\n",
    "    \n",
    "\n",
    "def converterrs(column):\n",
    "    if column <= 2:\n",
    "        return 0 # low\n",
    "    elif column >2 and column <10:\n",
    "        return 1\n",
    "    else:\n",
    "        return 2 # high\n",
    "subset6['residual sugar'] = subset6['residual sugar'].apply(converterrs)\n",
    "\n",
    "\n",
    "    \n"
   ]
  },
  {
   "cell_type": "code",
   "execution_count": null,
   "metadata": {},
   "outputs": [],
   "source": []
  },
  {
   "cell_type": "code",
   "execution_count": 35,
   "metadata": {},
   "outputs": [
    {
     "name": "stdout",
     "output_type": "stream",
     "text": [
      "1    2415\n",
      "2    1242\n",
      "0    1241\n",
      "Name: free sulfur dioxide, dtype: int64\n",
      "1    2187\n",
      "0    1500\n",
      "2    1211\n",
      "Name: residual sugar, dtype: int64\n",
      "1    2412\n",
      "2    1251\n",
      "0    1235\n",
      "Name: total sulfur dioxide, dtype: int64\n"
     ]
    }
   ],
   "source": [
    "print(pd.Series(subset6['free sulfur dioxide']).value_counts())\n",
    "print(pd.Series(subset6['residual sugar']).value_counts())\n",
    "print(pd.Series(subset6['total sulfur dioxide']).value_counts())"
   ]
  },
  {
   "cell_type": "code",
   "execution_count": null,
   "metadata": {},
   "outputs": [],
   "source": []
  },
  {
   "cell_type": "code",
   "execution_count": 31,
   "metadata": {},
   "outputs": [
    {
     "name": "stdout",
     "output_type": "stream",
     "text": [
      "[[ 1.39907948e+00  1.42794756e+00 -1.39315246e+00 -2.86749235e-04]\n",
      " [-4.58526664e-03 -1.26882790e+00 -8.24275678e-01 -1.40478450e+00]\n",
      " [-1.40825002e+00  7.95598312e-02 -3.36667007e-01 -2.86749235e-04]\n",
      " ...\n",
      " [-4.58526664e-03 -1.26882790e+00 -9.05543789e-01 -2.86749235e-04]\n",
      " [-4.58526664e-03 -1.26882790e+00  1.85757201e+00 -1.40478450e+00]\n",
      " [-1.40825002e+00 -1.26882790e+00  1.04489089e+00 -1.40478450e+00]]\n"
     ]
    },
    {
     "data": {
      "image/png": "[encoded data removed]",
      "text/plain": [
       "<Figure size 432x288 with 1 Axes>"
      ]
     },
     "metadata": {
      "needs_background": "light"
     },
     "output_type": "display_data"
    }
   ],
   "source": [
    "feature_scaler = StandardScaler()\n",
    "X_subset6_scaled = feature_scaler.fit_transform(subset6)\n",
    "print(X_subset6_scaled)\n",
    "\n",
    "# Finding the number of clusters (K) - Elbow Plot Method\n",
    "inertia_subset6 = []\n",
    "for i in range(1,11):\n",
    "    kmeans_subset6 = KMeans(n_clusters = i, random_state = 100)\n",
    "    kmeans_subset6.fit(X_subset6_scaled)\n",
    "    inertia_subset6.append(kmeans_subset6.inertia_)\n",
    "    \n",
    "plt.plot(range(1, 11), inertia_subset6)\n",
    "plt.title('The Elbow Plot')\n",
    "plt.xlabel('Number of clusters')\n",
    "plt.ylabel('Inertia')\n",
    "plt.show()"
   ]
  },
  {
   "cell_type": "code",
   "execution_count": 32,
   "metadata": {},
   "outputs": [
    {
     "data": {
      "text/plain": [
       "'t-SNE__subset6_per60_4000_noph.html'"
      ]
     },
     "execution_count": 32,
     "metadata": {},
     "output_type": "execute_result"
    }
   ],
   "source": [
    "# Running KMeans to generate labels\n",
    "kmeans_subset6 = KMeans(n_clusters = 2)\n",
    "kmeans_subset6.fit(X_subset6_scaled)\n",
    "# Implementing t-SNE to visualize dataset\n",
    "tsne_subset6 = TSNE(n_components = 2, perplexity =30,n_iter=2000)\n",
    "x_tsne_subset6 = tsne_subset6.fit_transform(X_subset6_scaled)\n",
    "\n",
    "\n",
    "\n",
    "fsd = list(subset6['free sulfur dioxide'])\n",
    "#ph = list(subset6['pH'])\n",
    "\n",
    "totalsulphurdioxide = list(subset6['total sulfur dioxide'])\n",
    "residualsugar = list(subset6['residual sugar'])\n",
    "al = list(subset6['alcohol'])\n",
    "\n",
    "data = [go.Scatter(x=x_tsne_subset6[:,0], y=x_tsne_subset6[:,1], mode='markers', \n",
    "                    marker = dict(color=kmeans_subset6.labels_, colorscale='Rainbow', opacity=0.5),\n",
    "                    text=[f'  RS:{b};tsd :{d}; al:{c} ; fsd:{e}' for b,d,c,e in list(zip(residualsugar,totalsulphurdioxide,al,fsd))],\n",
    "                    hoverinfo='text')]\n",
    "\n",
    "layout = go.Layout(title = 't-SNE t-SNE with freesulphur totalsulpd residuals fsd all converted Y= alcohol', width = 700, height = 700,\n",
    "                    xaxis = dict(title='First Dimension'),\n",
    "                    yaxis = dict(title='Second Dimension'))\n",
    "fig = go.Figure(data=data, layout=layout)\n",
    "offline.plot(fig,filename='t-SNE__subset6_per60_4000_noph.html')"
   ]
  },
  {
   "cell_type": "code",
   "execution_count": 4,
   "metadata": {},
   "outputs": [
    {
     "name": "stdout",
     "output_type": "stream",
     "text": [
      "      fixed acidity  alcohol  total sulfur dioxide    pH  residual sugar\n",
      "0               7.0      8.8                 170.0  3.00            20.7\n",
      "1               6.3      9.5                 132.0  3.30             1.6\n",
      "2               8.1     10.1                  97.0  3.26             6.9\n",
      "3               7.2      9.9                 186.0  3.19             8.5\n",
      "4               7.2      9.9                 186.0  3.19             8.5\n",
      "...             ...      ...                   ...   ...             ...\n",
      "4893            6.2     11.2                  92.0  3.27             1.6\n",
      "4894            6.6      9.6                 168.0  3.15             8.0\n",
      "4895            6.5      9.4                 111.0  2.99             1.2\n",
      "4896            5.5     12.8                 110.0  3.34             1.1\n",
      "4897            6.0     11.8                  98.0  3.26             0.8\n",
      "\n",
      "[4898 rows x 5 columns]\n",
      "<class 'pandas.core.frame.DataFrame'>\n",
      "RangeIndex: 4898 entries, 0 to 4897\n",
      "Data columns (total 5 columns):\n",
      " #   Column                Non-Null Count  Dtype  \n",
      "---  ------                --------------  -----  \n",
      " 0   fixed acidity         4898 non-null   float64\n",
      " 1   alcohol               4898 non-null   float64\n",
      " 2   total sulfur dioxide  4898 non-null   float64\n",
      " 3   pH                    4898 non-null   float64\n",
      " 4   residual sugar        4898 non-null   float64\n",
      "dtypes: float64(5)\n",
      "memory usage: 191.5 KB\n",
      "       fixed acidity      alcohol  total sulfur dioxide           pH  \\\n",
      "count    4898.000000  4898.000000           4898.000000  4898.000000   \n",
      "mean        6.854788    10.514267            138.360657     3.188267   \n",
      "std         0.843868     1.230621             42.498065     0.151001   \n",
      "min         3.800000     8.000000              9.000000     2.720000   \n",
      "25%         6.300000     9.500000            108.000000     3.090000   \n",
      "50%         6.800000    10.400000            134.000000     3.180000   \n",
      "75%         7.300000    11.400000            167.000000     3.280000   \n",
      "max        14.200000    14.200000            440.000000     3.820000   \n",
      "\n",
      "       residual sugar  \n",
      "count     4898.000000  \n",
      "mean         6.391415  \n",
      "std          5.072058  \n",
      "min          0.600000  \n",
      "25%          1.700000  \n",
      "50%          5.200000  \n",
      "75%          9.900000  \n",
      "max         65.800000  \n",
      "[[ 0.17209696 -1.39315246  0.74456503 -1.24692128  1.0835083 ]\n",
      " [-0.65750113 -0.82427568 -0.14968462  0.74002864 -0.92292786]\n",
      " [ 1.4757511  -0.33666701 -0.97333563  0.47510198  1.0835083 ]\n",
      " ...\n",
      " [-0.4204731  -0.90554379 -0.64387523 -1.31315295 -0.92292786]\n",
      " [-1.60561323  1.85757201 -0.66740811  1.0049553  -0.92292786]\n",
      " [-1.01304317  1.04489089 -0.94980274  0.47510198 -0.92292786]]\n"
     ]
    },
    {
     "data": {
      "image/png": "[encoded data removed]",
      "text/plain": [
       "<Figure size 432x288 with 1 Axes>"
      ]
     },
     "metadata": {
      "needs_background": "light"
     },
     "output_type": "display_data"
    }
   ],
   "source": [
    "#creating a subset\n",
    "subset7 = dataset[['fixed acidity','alcohol','total sulfur dioxide', 'pH','residual sugar']]\n",
    "print(subset7)\n",
    "subset7.info()\n",
    "print(subset7.describe())\n",
    "# Defining residual sugar\n",
    "def converter(column):\n",
    "    if column <= 6:\n",
    "        return 0 # low\n",
    "    else:\n",
    "        return 1 # high\n",
    "\n",
    "subset7['residual sugar'] = subset7['residual sugar'].apply(converter)\n",
    "\n",
    "\n",
    "\n",
    "feature_scaler = StandardScaler()\n",
    "X_subset7_scaled = feature_scaler.fit_transform(subset7)\n",
    "print(X_subset7_scaled)\n",
    "\n",
    "# Finding the number of clusters (K) - Elbow Plot Method\n",
    "inertia_subset7 = []\n",
    "for i in range(1,11):\n",
    "    kmeans_subset7 = KMeans(n_clusters = i, random_state = 100)\n",
    "    kmeans_subset7.fit(X_subset7_scaled)\n",
    "    inertia_subset7.append(kmeans_subset7.inertia_)\n",
    "    \n",
    "plt.plot(range(1, 11), inertia_subset7)\n",
    "plt.title('The Elbow Plot')\n",
    "plt.xlabel('Number of clusters')\n",
    "plt.ylabel('Inertia')\n",
    "plt.show()"
   ]
  },
  {
   "cell_type": "code",
   "execution_count": 8,
   "metadata": {},
   "outputs": [
    {
     "data": {
      "text/plain": [
       "'t-SNE__subset7_per70_2000.html'"
      ]
     },
     "execution_count": 8,
     "metadata": {},
     "output_type": "execute_result"
    }
   ],
   "source": [
    "# Running KMeans to generate labels\n",
    "kmeans_subset7 = KMeans(n_clusters = 3)\n",
    "kmeans_subset7.fit(X_subset7_scaled)\n",
    "# Implementing t-SNE to visualize dataset\n",
    "tsne_subset7 = TSNE(n_components = 2, perplexity =70,n_iter=2000)\n",
    "x_tsne_subset7 = tsne_subset7.fit_transform(X_subset7_scaled)\n",
    "\n",
    "\n",
    "\n",
    "#fsd = list(subset7['free sulfur dioxide'])\n",
    "#ph = list(subset6['pH'])\n",
    "\n",
    "totalsulphurdioxide = list(subset7['total sulfur dioxide'])\n",
    "residualsugar = list(subset7['residual sugar'])\n",
    "al = list(subset7['alcohol'])\n",
    "fa = list(subset7['fixed acidity'])\n",
    "ph = list(subset7['pH'])\n",
    "\n",
    "data = [go.Scatter(x=x_tsne_subset7[:,0], y=x_tsne_subset7[:,1], mode='markers', \n",
    "                    marker = dict(color=kmeans_subset7.labels_, colorscale='Rainbow', opacity=0.5),\n",
    "                    text=[f'  RS:{b};tsd :{d}; al:{c} ; fa:{f}; ph:{g}' for b,d,c,f,g in list(zip(residualsugar,totalsulphurdioxide,al,fa,ph))],\n",
    "                    hoverinfo='text')]\n",
    "\n",
    "layout = go.Layout(title = 't-SNE t-SNE with freesulphur totalsulpd residuals fsd all converted Y= rs', width = 700, height = 700,\n",
    "                    xaxis = dict(title='First Dimension'),\n",
    "                    yaxis = dict(title='Second Dimension'))\n",
    "fig = go.Figure(data=data, layout=layout)\n",
    "offline.plot(fig,filename='t-SNE__subset7_per70_2000.html')"
   ]
  },
  {
   "cell_type": "code",
   "execution_count": 9,
   "metadata": {},
   "outputs": [
    {
     "name": "stdout",
     "output_type": "stream",
     "text": [
      "      alcohol  total sulfur dioxide  residual sugar\n",
      "0         8.8                 170.0            20.7\n",
      "1         9.5                 132.0             1.6\n",
      "2        10.1                  97.0             6.9\n",
      "3         9.9                 186.0             8.5\n",
      "4         9.9                 186.0             8.5\n",
      "...       ...                   ...             ...\n",
      "4893     11.2                  92.0             1.6\n",
      "4894      9.6                 168.0             8.0\n",
      "4895      9.4                 111.0             1.2\n",
      "4896     12.8                 110.0             1.1\n",
      "4897     11.8                  98.0             0.8\n",
      "\n",
      "[4898 rows x 3 columns]\n",
      "<class 'pandas.core.frame.DataFrame'>\n",
      "RangeIndex: 4898 entries, 0 to 4897\n",
      "Data columns (total 3 columns):\n",
      " #   Column                Non-Null Count  Dtype  \n",
      "---  ------                --------------  -----  \n",
      " 0   alcohol               4898 non-null   float64\n",
      " 1   total sulfur dioxide  4898 non-null   float64\n",
      " 2   residual sugar        4898 non-null   float64\n",
      "dtypes: float64(3)\n",
      "memory usage: 114.9 KB\n",
      "           alcohol  total sulfur dioxide  residual sugar\n",
      "count  4898.000000           4898.000000     4898.000000\n",
      "mean     10.514267            138.360657        6.391415\n",
      "std       1.230621             42.498065        5.072058\n",
      "min       8.000000              9.000000        0.600000\n",
      "25%       9.500000            108.000000        1.700000\n",
      "50%      10.400000            134.000000        5.200000\n",
      "75%      11.400000            167.000000        9.900000\n",
      "max      14.200000            440.000000       65.800000\n",
      "[[-1.39315246  1.07156223  2.82134917]\n",
      " [-0.82427568 -0.93321692 -0.94476527]\n",
      " [-0.33666701 -0.93321692  0.10028219]\n",
      " ...\n",
      " [-0.90554379 -0.93321692 -1.02363678]\n",
      " [ 1.85757201 -0.93321692 -1.04335466]\n",
      " [ 1.04489089 -0.93321692 -1.10250829]]\n"
     ]
    },
    {
     "data": {
      "image/png": "[encoded data removed]",
      "text/plain": [
       "<Figure size 432x288 with 1 Axes>"
      ]
     },
     "metadata": {
      "needs_background": "light"
     },
     "output_type": "display_data"
    }
   ],
   "source": [
    "#creating a subset\n",
    "subset8 = dataset[['alcohol','total sulfur dioxide','residual sugar']]\n",
    "X_subset8_scaled = plot_elbow(subset8, 'total sulfur dioxide', 138 )"
   ]
  },
  {
   "cell_type": "code",
   "execution_count": 12,
   "metadata": {},
   "outputs": [
    {
     "data": {
      "text/plain": [
       "'t-SNE__subset8_per150_2000.html'"
      ]
     },
     "execution_count": 12,
     "metadata": {},
     "output_type": "execute_result"
    }
   ],
   "source": [
    "# Running KMeans to generate labels\n",
    "kmeans_subset8 = KMeans(n_clusters = 2)\n",
    "kmeans_subset8.fit(X_subset8_scaled)\n",
    "# Implementing t-SNE to visualize dataset\n",
    "tsne_subset8 = TSNE(n_components = 2, perplexity =150,n_iter=2000)\n",
    "x_tsne_subset8 = tsne_subset8.fit_transform(X_subset8_scaled)\n",
    "\n",
    "\n",
    "\n",
    "#fsd = list(subset7['free sulfur dioxide'])\n",
    "#ph = list(subset6['pH'])\n",
    "\n",
    "totalsulphurdioxide = list(subset8['total sulfur dioxide'])\n",
    "residualsugar = list(subset8['residual sugar'])\n",
    "al = list(subset8['alcohol'])\n",
    "\n",
    "\n",
    "data = [go.Scatter(x=x_tsne_subset8[:,0], y=x_tsne_subset8[:,1], mode='markers', \n",
    "                    marker = dict(color=kmeans_subset8.labels_, colorscale='Rainbow', opacity=0.5),\n",
    "                    text=[f'  RS:{b};tsd :{d}; al:{c} ' for b,d,c in list(zip(residualsugar,totalsulphurdioxide,al))],\n",
    "                    hoverinfo='text')]\n",
    "\n",
    "layout = go.Layout(title = 't-SNE t-SNE with freesulphur totalsulpd residuals fsd all converted Y= rs', width = 700, height = 700,\n",
    "                    xaxis = dict(title='First Dimension'),\n",
    "                    yaxis = dict(title='Second Dimension'))\n",
    "fig = go.Figure(data=data, layout=layout)\n",
    "offline.plot(fig,filename='t-SNE__subset8_per150_2000.html')"
   ]
  },
  {
   "cell_type": "code",
   "execution_count": 4,
   "metadata": {},
   "outputs": [
    {
     "name": "stdout",
     "output_type": "stream",
     "text": [
      "      alcohol  total sulfur dioxide  residual sugar    pH\n",
      "0         8.8                 170.0            20.7  3.00\n",
      "1         9.5                 132.0             1.6  3.30\n",
      "2        10.1                  97.0             6.9  3.26\n",
      "3         9.9                 186.0             8.5  3.19\n",
      "4         9.9                 186.0             8.5  3.19\n",
      "...       ...                   ...             ...   ...\n",
      "4893     11.2                  92.0             1.6  3.27\n",
      "4894      9.6                 168.0             8.0  3.15\n",
      "4895      9.4                 111.0             1.2  2.99\n",
      "4896     12.8                 110.0             1.1  3.34\n",
      "4897     11.8                  98.0             0.8  3.26\n",
      "\n",
      "[4898 rows x 4 columns]\n",
      "<class 'pandas.core.frame.DataFrame'>\n",
      "RangeIndex: 4898 entries, 0 to 4897\n",
      "Data columns (total 4 columns):\n",
      " #   Column                Non-Null Count  Dtype  \n",
      "---  ------                --------------  -----  \n",
      " 0   alcohol               4898 non-null   float64\n",
      " 1   total sulfur dioxide  4898 non-null   float64\n",
      " 2   residual sugar        4898 non-null   float64\n",
      " 3   pH                    4898 non-null   float64\n",
      "dtypes: float64(4)\n",
      "memory usage: 153.2 KB\n",
      "           alcohol  total sulfur dioxide  residual sugar           pH\n",
      "count  4898.000000           4898.000000     4898.000000  4898.000000\n",
      "mean     10.514267            138.360657        6.391415     3.188267\n",
      "std       1.230621             42.498065        5.072058     0.151001\n",
      "min       8.000000              9.000000        0.600000     2.720000\n",
      "25%       9.500000            108.000000        1.700000     3.090000\n",
      "50%      10.400000            134.000000        5.200000     3.180000\n",
      "75%      11.400000            167.000000        9.900000     3.280000\n",
      "max      14.200000            440.000000       65.800000     3.820000\n",
      "[[-1.39315246  1.07156223  2.82134917 -1.24692128]\n",
      " [-0.82427568 -0.93321692 -0.94476527  0.74002864]\n",
      " [-0.33666701 -0.93321692  0.10028219  0.47510198]\n",
      " ...\n",
      " [-0.90554379 -0.93321692 -1.02363678 -1.31315295]\n",
      " [ 1.85757201 -0.93321692 -1.04335466  1.0049553 ]\n",
      " [ 1.04489089 -0.93321692 -1.10250829  0.47510198]]\n"
     ]
    },
    {
     "data": {
      "image/png": "[encoded data removed]",
      "text/plain": [
       "<Figure size 432x288 with 1 Axes>"
      ]
     },
     "metadata": {
      "needs_background": "light"
     },
     "output_type": "display_data"
    }
   ],
   "source": [
    "#creating a subset\n",
    "subset9 = dataset[['alcohol','total sulfur dioxide','residual sugar','pH']]\n",
    "print(subset9)\n",
    "subset9.info()\n",
    "print(subset9.describe())\n",
    "# Defining residual sugar\n",
    "def converter(column):\n",
    "    if column <= 138:\n",
    "        return 0 # low\n",
    "    else:\n",
    "        return 1 # high\n",
    "\n",
    "subset9['total sulfur dioxide'] = subset9['total sulfur dioxide'].apply(converter)\n",
    "\n",
    "\n",
    "\n",
    "feature_scaler = StandardScaler()\n",
    "X_subset9_scaled = feature_scaler.fit_transform(subset9)\n",
    "print(X_subset9_scaled)\n",
    "\n",
    "# Finding the number of clusters (K) - Elbow Plot Method\n",
    "inertia_subset9 = []\n",
    "for i in range(1,11):\n",
    "    kmeans_subset9 = KMeans(n_clusters = i, random_state = 100)\n",
    "    kmeans_subset9.fit(X_subset9_scaled)\n",
    "    inertia_subset9.append(kmeans_subset9.inertia_)\n",
    "    \n",
    "plt.plot(range(1, 11), inertia_subset9)\n",
    "plt.title('The Elbow Plot')\n",
    "plt.xlabel('Number of clusters')\n",
    "plt.ylabel('Inertia')\n",
    "plt.show()"
   ]
  },
  {
   "cell_type": "code",
   "execution_count": 8,
   "metadata": {},
   "outputs": [
    {
     "data": {
      "text/plain": [
       "'t-SNE__subsete_per200_2000.html'"
      ]
     },
     "execution_count": 8,
     "metadata": {},
     "output_type": "execute_result"
    }
   ],
   "source": [
    "# Running KMeans to generate labels\n",
    "kmeans_subset9 = KMeans(n_clusters = 4)\n",
    "kmeans_subset9.fit(X_subset9_scaled)\n",
    "# Implementing t-SNE to visualize dataset\n",
    "tsne_subset9 = TSNE(n_components = 2, perplexity =200,n_iter=2000)\n",
    "x_tsne_subset9 = tsne_subset9.fit_transform(X_subset9_scaled)\n",
    "\n",
    "\n",
    "\n",
    "#fsd = list(subset7['free sulfur dioxide'])\n",
    "ph = list(subset9['pH'])\n",
    "\n",
    "totalsulphurdioxide = list(subset9['total sulfur dioxide'])\n",
    "residualsugar = list(subset9['residual sugar'])\n",
    "al = list(subset9['alcohol'])\n",
    "\n",
    "\n",
    "data = [go.Scatter(x=x_tsne_subset9[:,0], y=x_tsne_subset9[:,1], mode='markers', \n",
    "                    marker = dict(color=kmeans_subset9.labels_, colorscale='Rainbow', opacity=0.5),\n",
    "                    text=[f'  RS:{b};tsd :{d}; al:{c}; ph:{e} ' for b,d,c,e in list(zip(residualsugar,totalsulphurdioxide,al,ph))],\n",
    "                    hoverinfo='text')]\n",
    "\n",
    "layout = go.Layout(title = 't-SNE t-SNE with freesulphur totalsulpd residuals fsd all converted Y= rs', width = 700, height = 700,\n",
    "                    xaxis = dict(title='First Dimension'),\n",
    "                    yaxis = dict(title='Second Dimension'))\n",
    "fig = go.Figure(data=data, layout=layout)\n",
    "offline.plot(fig,filename='t-SNE__subsete_per200_2000.html')"
   ]
  },
  {
   "cell_type": "code",
   "execution_count": 17,
   "metadata": {},
   "outputs": [
    {
     "name": "stdout",
     "output_type": "stream",
     "text": [
      "      alcohol  total sulfur dioxide  residual sugar    pH  citric acid\n",
      "0         8.8                 170.0            20.7  3.00         0.36\n",
      "1         9.5                 132.0             1.6  3.30         0.34\n",
      "2        10.1                  97.0             6.9  3.26         0.40\n",
      "3         9.9                 186.0             8.5  3.19         0.32\n",
      "4         9.9                 186.0             8.5  3.19         0.32\n",
      "...       ...                   ...             ...   ...          ...\n",
      "4893     11.2                  92.0             1.6  3.27         0.29\n",
      "4894      9.6                 168.0             8.0  3.15         0.36\n",
      "4895      9.4                 111.0             1.2  2.99         0.19\n",
      "4896     12.8                 110.0             1.1  3.34         0.30\n",
      "4897     11.8                  98.0             0.8  3.26         0.38\n",
      "\n",
      "[4898 rows x 5 columns]\n",
      "<class 'pandas.core.frame.DataFrame'>\n",
      "RangeIndex: 4898 entries, 0 to 4897\n",
      "Data columns (total 5 columns):\n",
      " #   Column                Non-Null Count  Dtype  \n",
      "---  ------                --------------  -----  \n",
      " 0   alcohol               4898 non-null   float64\n",
      " 1   total sulfur dioxide  4898 non-null   float64\n",
      " 2   residual sugar        4898 non-null   float64\n",
      " 3   pH                    4898 non-null   float64\n",
      " 4   citric acid           4898 non-null   float64\n",
      "dtypes: float64(5)\n",
      "memory usage: 191.5 KB\n",
      "           alcohol  total sulfur dioxide  residual sugar           pH  \\\n",
      "count  4898.000000           4898.000000     4898.000000  4898.000000   \n",
      "mean     10.514267            138.360657        6.391415     3.188267   \n",
      "std       1.230621             42.498065        5.072058     0.151001   \n",
      "min       8.000000              9.000000        0.600000     2.720000   \n",
      "25%       9.500000            108.000000        1.700000     3.090000   \n",
      "50%      10.400000            134.000000        5.200000     3.180000   \n",
      "75%      11.400000            167.000000        9.900000     3.280000   \n",
      "max      14.200000            440.000000       65.800000     3.820000   \n",
      "\n",
      "       citric acid  \n",
      "count  4898.000000  \n",
      "mean      0.334192  \n",
      "std       0.121020  \n",
      "min       0.000000  \n",
      "25%       0.270000  \n",
      "50%       0.320000  \n",
      "75%       0.390000  \n",
      "max       1.660000  \n",
      "[[-1.39315246  1.07156223  2.82134917 -1.24692128  0.2132802 ]\n",
      " [-0.82427568 -0.93321692 -0.94476527  0.74002864  0.04800112]\n",
      " [-0.33666701 -0.93321692  0.10028219  0.47510198  0.54383836]\n",
      " ...\n",
      " [-0.90554379 -0.93321692 -1.02363678 -1.31315295 -1.19159198]\n",
      " [ 1.85757201 -0.93321692 -1.04335466  1.0049553  -0.28255704]\n",
      " [ 1.04489089 -0.93321692 -1.10250829  0.47510198  0.37855928]]\n"
     ]
    },
    {
     "data": {
      "image/png": "[encoded data removed]",
      "text/plain": [
       "<Figure size 432x288 with 1 Axes>"
      ]
     },
     "metadata": {
      "needs_background": "light"
     },
     "output_type": "display_data"
    }
   ],
   "source": [
    "#creating a subset\n",
    "subset9 = dataset[['alcohol','total sulfur dioxide','residual sugar','pH','citric acid']]\n",
    "scaled = plot_elbow(subset9, 'total sulfur dioxide', 138 )\n"
   ]
  },
  {
   "cell_type": "code",
   "execution_count": 21,
   "metadata": {},
   "outputs": [
    {
     "data": {
      "text/plain": [
       "'t-SNE__subset9_per100_2000.html'"
      ]
     },
     "execution_count": 21,
     "metadata": {},
     "output_type": "execute_result"
    }
   ],
   "source": [
    "# Running KMeans to generate labels\n",
    "kmeans_subset9 = KMeans(n_clusters = 3)\n",
    "kmeans_subset9.fit(scaled)\n",
    "# Implementing t-SNE to visualize dataset\n",
    "tsne_subset9 = TSNE(n_components = 2, perplexity =100,n_iter=3000)\n",
    "x_tsne_subset9 = tsne_subset9.fit_transform(scaled)\n",
    "\n",
    "\n",
    "\n",
    "#fsd = list(subset7['free sulfur dioxide'])\n",
    "ph = list(subset9['pH'])\n",
    "\n",
    "totalsulphurdioxide = list(subset9['total sulfur dioxide'])\n",
    "residualsugar = list(subset9['residual sugar'])\n",
    "al = list(subset9['alcohol'])\n",
    "ca = list(subset9['citric acid'])\n",
    "\n",
    "data = [go.Scatter(x=x_tsne_subset9[:,0], y=x_tsne_subset9[:,1], mode='markers', \n",
    "                    marker = dict(color=kmeans_subset9.labels_, colorscale='Rainbow', opacity=0.5),\n",
    "                    text=[f'  RS:{b};tsd :{d}; al:{c}; ph:{e}; ca:{f} ' for b,d,c,e,f in list(zip(residualsugar,totalsulphurdioxide,al,ph,ca))],\n",
    "                    hoverinfo='text')]\n",
    "\n",
    "layout = go.Layout(title = 't-SNE t-SNE with  totalsulpd residuals fsd all converted Y= tsd', width = 700, height = 700,\n",
    "                    xaxis = dict(title='First Dimension'),\n",
    "                    yaxis = dict(title='Second Dimension'))\n",
    "fig = go.Figure(data=data, layout=layout)\n",
    "offline.plot(fig,filename='t-SNE__subset9_per100_2000.html')"
   ]
  },
  {
   "cell_type": "code",
   "execution_count": 44,
   "metadata": {},
   "outputs": [
    {
     "name": "stdout",
     "output_type": "stream",
     "text": [
      "      alcohol  total sulfur dioxide  residual sugar  free sulfur dioxide\n",
      "0         8.8                 170.0            20.7                 45.0\n",
      "1         9.5                 132.0             1.6                 14.0\n",
      "2        10.1                  97.0             6.9                 30.0\n",
      "3         9.9                 186.0             8.5                 47.0\n",
      "4         9.9                 186.0             8.5                 47.0\n",
      "...       ...                   ...             ...                  ...\n",
      "4893     11.2                  92.0             1.6                 24.0\n",
      "4894      9.6                 168.0             8.0                 57.0\n",
      "4895      9.4                 111.0             1.2                 30.0\n",
      "4896     12.8                 110.0             1.1                 20.0\n",
      "4897     11.8                  98.0             0.8                 22.0\n",
      "\n",
      "[4898 rows x 4 columns]\n",
      "<class 'pandas.core.frame.DataFrame'>\n",
      "RangeIndex: 4898 entries, 0 to 4897\n",
      "Data columns (total 4 columns):\n",
      " #   Column                Non-Null Count  Dtype  \n",
      "---  ------                --------------  -----  \n",
      " 0   alcohol               4898 non-null   float64\n",
      " 1   total sulfur dioxide  4898 non-null   float64\n",
      " 2   residual sugar        4898 non-null   float64\n",
      " 3   free sulfur dioxide   4898 non-null   float64\n",
      "dtypes: float64(4)\n",
      "memory usage: 153.2 KB\n",
      "           alcohol  total sulfur dioxide  residual sugar  free sulfur dioxide\n",
      "count  4898.000000           4898.000000     4898.000000          4898.000000\n",
      "mean     10.514267            138.360657        6.391415            35.308085\n",
      "std       1.230621             42.498065        5.072058            17.007137\n",
      "min       8.000000              9.000000        0.600000             2.000000\n",
      "25%       9.500000            108.000000        1.700000            23.000000\n",
      "50%      10.400000            134.000000        5.200000            34.000000\n",
      "75%      11.400000            167.000000        9.900000            46.000000\n",
      "max      14.200000            440.000000       65.800000           289.000000\n",
      "[[-1.39315246  1.07156223  2.82134917  0.56993158]\n",
      " [-0.82427568 -0.93321692 -0.94476527 -1.25301866]\n",
      " [-0.33666701 -0.93321692  0.10028219 -0.31214112]\n",
      " ...\n",
      " [-0.90554379 -0.93321692 -1.02363678 -0.31214112]\n",
      " [ 1.85757201 -0.93321692 -1.04335466 -0.90018958]\n",
      " [ 1.04489089 -0.93321692 -1.10250829 -0.78257989]]\n"
     ]
    },
    {
     "data": {
      "image/png": "[encoded data removed]",
      "text/plain": [
       "<Figure size 432x288 with 1 Axes>"
      ]
     },
     "metadata": {
      "needs_background": "light"
     },
     "output_type": "display_data"
    }
   ],
   "source": [
    "#creating a subset\n",
    "subset10 = dataset[['alcohol','total sulfur dioxide','residual sugar','free sulfur dioxide']]\n",
    "scaled = plot_elbow(subset10, 'total sulfur dioxide', 138 )"
   ]
  },
  {
   "cell_type": "code",
   "execution_count": null,
   "metadata": {},
   "outputs": [],
   "source": []
  },
  {
   "cell_type": "code",
   "execution_count": 45,
   "metadata": {},
   "outputs": [
    {
     "data": {
      "text/plain": [
       "'t-SNE__subset10_per50_2000.html'"
      ]
     },
     "execution_count": 45,
     "metadata": {},
     "output_type": "execute_result"
    }
   ],
   "source": [
    "# Running KMeans to generate labels\n",
    "kmeans_subset10 = KMeans(n_clusters = 3)\n",
    "kmeans_subset10.fit(scaled)\n",
    "# Implementing t-SNE to visualize dataset\n",
    "tsne_subset10 = TSNE(n_components = 2, perplexity =50,n_iter=2000)\n",
    "x_tsne_subset10 = tsne_subset10.fit_transform(scaled)\n",
    "\n",
    "\n",
    "\n",
    "#fsd = list(subset7['free sulfur dioxide'])\n",
    "\n",
    "\n",
    "totalsulphurdioxide = list(subset10['total sulfur dioxide'])\n",
    "residualsugar = list(subset10['residual sugar'])\n",
    "al = list(subset10['alcohol'])\n",
    "\n",
    "\n",
    "fsd= list(subset10['free sulfur dioxide'])\n",
    "\n",
    "data = [go.Scatter(x=x_tsne_subset10[:,0], y=x_tsne_subset10[:,1], mode='markers', \n",
    "                    marker = dict(color=kmeans_subset10.labels_, colorscale='Rainbow', opacity=0.5),\n",
    "                    text=[f'  RS:{b};tsd :{d}; al:{c}; fsd:{g} ' for b,d,c,g in list(zip(residualsugar,totalsulphurdioxide,al,fsd))],\n",
    "                    hoverinfo='text')]\n",
    "\n",
    "layout = go.Layout(title = 't-SNE t-SNE with  totalsulpd residuals fsd all converted Y= tsd', width = 700, height = 700,\n",
    "                    xaxis = dict(title='First Dimension'),\n",
    "                    yaxis = dict(title='Second Dimension'))\n",
    "fig = go.Figure(data=data, layout=layout)\n",
    "offline.plot(fig,filename='t-SNE__subset10_per50_2000.html')"
   ]
  },
  {
   "cell_type": "code",
   "execution_count": null,
   "metadata": {},
   "outputs": [],
   "source": []
  }
 ],
 "metadata": {
  "kernelspec": {
   "display_name": "Python 3",
   "language": "python",
   "name": "python3"
  },
  "language_info": {
   "codemirror_mode": {
    "name": "ipython",
    "version": 3
   },
   "file_extension": ".py",
   "mimetype": "text/x-python",
   "name": "python",
   "nbconvert_exporter": "python",
   "pygments_lexer": "ipython3",
   "version": "3.7.4"
  }
 },
 "nbformat": 4,
 "nbformat_minor": 4
}
